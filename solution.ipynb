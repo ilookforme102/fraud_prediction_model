{
 "cells": [
  {
   "cell_type": "code",
   "execution_count": null,
   "metadata": {},
   "outputs": [],
   "source": [
    "# Yêu cầu đưa ra chiến lược giải pháp cho bài toán phát hiện gian lận trong giao dịch. Bao gồm một số bước sau\n",
    "# Data Description\n",
    "# Feature Engineering\n",
    "# Data Filtering\n",
    "# Exploratory Data Analysis\n",
    "# Data Preparation\n",
    "# Feature Selection\n",
    "# Machine Learning Modeling\n",
    "# Conclusions\n",
    "# Model Deploy(Docker)\n",
    "import pandas as pd\n",
    "import seaborn as sns\n",
    "import matplotlib.pyplot as plt\n",
    "from sklearn.model_selection import StratifiedKFold, cross_val_score, train_test_split, GridSearchCV, RandomizedSearchCV, KFold,cross_validate\n",
    "from sklearn.pipeline import Pipeline\n",
    "from sklearn.ensemble import RandomForestClassifier\n",
    "from sklearn.linear_model import LogisticRegression\n",
    "from sklearn.svm import SVC\n",
    "from sklearn.naive_bayes import GaussianNB\n",
    "from sklearn.tree import DecisionTreeClassifier\n",
    "from sklearn.preprocessing import StandardScaler\n",
    "from sklearn.metrics import make_scorer, accuracy_score, precision_score, recall_score, roc_auc_score\n",
    "import xgboost as xgb\n",
    "import matplotlib.pyplot as plt\n",
    "import seaborn as sns\n",
    "from sklearn.decomposition import PCA\n"
   ]
  },
  {
   "cell_type": "code",
   "execution_count": 32,
   "metadata": {},
   "outputs": [],
   "source": [
    "df = pd.read_csv('data2.csv')"
   ]
  },
  {
   "cell_type": "code",
   "execution_count": 136,
   "metadata": {},
   "outputs": [
    {
     "data": {
      "text/html": [
       "<div>\n",
       "<style scoped>\n",
       "    .dataframe tbody tr th:only-of-type {\n",
       "        vertical-align: middle;\n",
       "    }\n",
       "\n",
       "    .dataframe tbody tr th {\n",
       "        vertical-align: top;\n",
       "    }\n",
       "\n",
       "    .dataframe thead th {\n",
       "        text-align: right;\n",
       "    }\n",
       "</style>\n",
       "<table border=\"1\" class=\"dataframe\">\n",
       "  <thead>\n",
       "    <tr style=\"text-align: right;\">\n",
       "      <th></th>\n",
       "      <th>_id</th>\n",
       "      <th>label</th>\n",
       "      <th>f0</th>\n",
       "      <th>f1</th>\n",
       "      <th>f2</th>\n",
       "      <th>f3</th>\n",
       "      <th>f4</th>\n",
       "      <th>f5</th>\n",
       "      <th>f6</th>\n",
       "      <th>f7</th>\n",
       "      <th>...</th>\n",
       "      <th>f73</th>\n",
       "      <th>f74</th>\n",
       "      <th>f75</th>\n",
       "      <th>f76</th>\n",
       "      <th>f77</th>\n",
       "      <th>f78</th>\n",
       "      <th>f79</th>\n",
       "      <th>f80</th>\n",
       "      <th>f81</th>\n",
       "      <th>Unnamed: 84</th>\n",
       "    </tr>\n",
       "  </thead>\n",
       "  <tbody>\n",
       "    <tr>\n",
       "      <th>0</th>\n",
       "      <td>667b34831b443137f25380e8</td>\n",
       "      <td>1</td>\n",
       "      <td>VIP0</td>\n",
       "      <td>0.0</td>\n",
       "      <td>-43.0</td>\n",
       "      <td>0.0</td>\n",
       "      <td>0.0</td>\n",
       "      <td>-43.0</td>\n",
       "      <td>-43.0</td>\n",
       "      <td>-43.0</td>\n",
       "      <td>...</td>\n",
       "      <td>0.0</td>\n",
       "      <td>238.0</td>\n",
       "      <td>238.0</td>\n",
       "      <td>238.0</td>\n",
       "      <td>238.0</td>\n",
       "      <td>238.0</td>\n",
       "      <td>238.0</td>\n",
       "      <td>238.0</td>\n",
       "      <td>243010</td>\n",
       "      <td>NaN</td>\n",
       "    </tr>\n",
       "    <tr>\n",
       "      <th>1</th>\n",
       "      <td>667b34831b443137f25380ea</td>\n",
       "      <td>1</td>\n",
       "      <td>VIP0</td>\n",
       "      <td>0.0</td>\n",
       "      <td>0.0</td>\n",
       "      <td>0.0</td>\n",
       "      <td>0.0</td>\n",
       "      <td>0.0</td>\n",
       "      <td>0.0</td>\n",
       "      <td>0.0</td>\n",
       "      <td>...</td>\n",
       "      <td>0.0</td>\n",
       "      <td>189.0</td>\n",
       "      <td>189.0</td>\n",
       "      <td>189.0</td>\n",
       "      <td>189.0</td>\n",
       "      <td>189.0</td>\n",
       "      <td>189.0</td>\n",
       "      <td>189.0</td>\n",
       "      <td>236020</td>\n",
       "      <td>NaN</td>\n",
       "    </tr>\n",
       "    <tr>\n",
       "      <th>2</th>\n",
       "      <td>667b34831b443137f25380ec</td>\n",
       "      <td>1</td>\n",
       "      <td>VIP0</td>\n",
       "      <td>0.0</td>\n",
       "      <td>0.0</td>\n",
       "      <td>0.0</td>\n",
       "      <td>0.0</td>\n",
       "      <td>0.0</td>\n",
       "      <td>0.0</td>\n",
       "      <td>0.0</td>\n",
       "      <td>...</td>\n",
       "      <td>0.0</td>\n",
       "      <td>115.0</td>\n",
       "      <td>115.0</td>\n",
       "      <td>115.0</td>\n",
       "      <td>115.0</td>\n",
       "      <td>115.0</td>\n",
       "      <td>115.0</td>\n",
       "      <td>115.0</td>\n",
       "      <td>236040</td>\n",
       "      <td>NaN</td>\n",
       "    </tr>\n",
       "    <tr>\n",
       "      <th>3</th>\n",
       "      <td>667b34831b443137f25380ee</td>\n",
       "      <td>1</td>\n",
       "      <td>VIP0</td>\n",
       "      <td>0.0</td>\n",
       "      <td>-24.0</td>\n",
       "      <td>0.0</td>\n",
       "      <td>0.0</td>\n",
       "      <td>-12.0</td>\n",
       "      <td>-12.0</td>\n",
       "      <td>-12.0</td>\n",
       "      <td>...</td>\n",
       "      <td>0.0</td>\n",
       "      <td>110.0</td>\n",
       "      <td>110.0</td>\n",
       "      <td>110.0</td>\n",
       "      <td>110.0</td>\n",
       "      <td>110.0</td>\n",
       "      <td>110.0</td>\n",
       "      <td>110.0</td>\n",
       "      <td>103010</td>\n",
       "      <td>NaN</td>\n",
       "    </tr>\n",
       "    <tr>\n",
       "      <th>4</th>\n",
       "      <td>667b34831b443137f2538292</td>\n",
       "      <td>1</td>\n",
       "      <td>VIP0</td>\n",
       "      <td>0.0</td>\n",
       "      <td>-38.0</td>\n",
       "      <td>0.0</td>\n",
       "      <td>0.0</td>\n",
       "      <td>-38.0</td>\n",
       "      <td>-38.0</td>\n",
       "      <td>-38.0</td>\n",
       "      <td>...</td>\n",
       "      <td>0.0</td>\n",
       "      <td>141.0</td>\n",
       "      <td>141.0</td>\n",
       "      <td>141.0</td>\n",
       "      <td>141.0</td>\n",
       "      <td>141.0</td>\n",
       "      <td>141.0</td>\n",
       "      <td>141.0</td>\n",
       "      <td>243010</td>\n",
       "      <td>NaN</td>\n",
       "    </tr>\n",
       "  </tbody>\n",
       "</table>\n",
       "<p>5 rows × 85 columns</p>\n",
       "</div>"
      ],
      "text/plain": [
       "                        _id  label    f0   f1    f2   f3   f4    f5    f6  \\\n",
       "0  667b34831b443137f25380e8      1  VIP0  0.0 -43.0  0.0  0.0 -43.0 -43.0   \n",
       "1  667b34831b443137f25380ea      1  VIP0  0.0   0.0  0.0  0.0   0.0   0.0   \n",
       "2  667b34831b443137f25380ec      1  VIP0  0.0   0.0  0.0  0.0   0.0   0.0   \n",
       "3  667b34831b443137f25380ee      1  VIP0  0.0 -24.0  0.0  0.0 -12.0 -12.0   \n",
       "4  667b34831b443137f2538292      1  VIP0  0.0 -38.0  0.0  0.0 -38.0 -38.0   \n",
       "\n",
       "     f7  ...  f73    f74    f75    f76    f77    f78    f79    f80     f81  \\\n",
       "0 -43.0  ...  0.0  238.0  238.0  238.0  238.0  238.0  238.0  238.0  243010   \n",
       "1   0.0  ...  0.0  189.0  189.0  189.0  189.0  189.0  189.0  189.0  236020   \n",
       "2   0.0  ...  0.0  115.0  115.0  115.0  115.0  115.0  115.0  115.0  236040   \n",
       "3 -12.0  ...  0.0  110.0  110.0  110.0  110.0  110.0  110.0  110.0  103010   \n",
       "4 -38.0  ...  0.0  141.0  141.0  141.0  141.0  141.0  141.0  141.0  243010   \n",
       "\n",
       "   Unnamed: 84  \n",
       "0          NaN  \n",
       "1          NaN  \n",
       "2          NaN  \n",
       "3          NaN  \n",
       "4          NaN  \n",
       "\n",
       "[5 rows x 85 columns]"
      ]
     },
     "execution_count": 136,
     "metadata": {},
     "output_type": "execute_result"
    }
   ],
   "source": [
    "df.head()"
   ]
  },
  {
   "cell_type": "code",
   "execution_count": 31,
   "metadata": {},
   "outputs": [
    {
     "name": "stdout",
     "output_type": "stream",
     "text": [
      "<class 'pandas.core.frame.DataFrame'>\n",
      "Index: 60080 entries, 0 to 70719\n",
      "Data columns (total 83 columns):\n",
      " #   Column  Non-Null Count  Dtype  \n",
      "---  ------  --------------  -----  \n",
      " 0   label   60080 non-null  int64  \n",
      " 1   f0      60080 non-null  object \n",
      " 2   f1      54630 non-null  float64\n",
      " 3   f2      54630 non-null  float64\n",
      " 4   f3      54630 non-null  float64\n",
      " 5   f4      54630 non-null  float64\n",
      " 6   f5      54630 non-null  float64\n",
      " 7   f6      54630 non-null  float64\n",
      " 8   f7      54630 non-null  float64\n",
      " 9   f8      54630 non-null  float64\n",
      " 10  f9      54630 non-null  float64\n",
      " 11  f10     54630 non-null  float64\n",
      " 12  f11     54630 non-null  float64\n",
      " 13  f12     60080 non-null  int64  \n",
      " 14  f13     60080 non-null  int64  \n",
      " 15  f14     60080 non-null  int64  \n",
      " 16  f15     60080 non-null  int64  \n",
      " 17  f16     60080 non-null  int64  \n",
      " 18  f17     60080 non-null  int64  \n",
      " 19  f18     60080 non-null  int64  \n",
      " 20  f19     60080 non-null  int64  \n",
      " 21  f20     60080 non-null  int64  \n",
      " 22  f21     60080 non-null  int64  \n",
      " 23  f22     60080 non-null  int64  \n",
      " 24  f23     60078 non-null  float64\n",
      " 25  f24     60078 non-null  float64\n",
      " 26  f25     60078 non-null  float64\n",
      " 27  f26     60078 non-null  float64\n",
      " 28  f27     60078 non-null  float64\n",
      " 29  f28     60078 non-null  float64\n",
      " 30  f29     60078 non-null  float64\n",
      " 31  f30     60078 non-null  float64\n",
      " 32  f31     60078 non-null  float64\n",
      " 33  f32     60078 non-null  float64\n",
      " 34  f33     60078 non-null  float64\n",
      " 35  f34     60078 non-null  float64\n",
      " 36  f35     60078 non-null  float64\n",
      " 37  f36     60078 non-null  float64\n",
      " 38  f37     60078 non-null  float64\n",
      " 39  f38     60078 non-null  float64\n",
      " 40  f39     60078 non-null  float64\n",
      " 41  f40     60078 non-null  float64\n",
      " 42  f41     60078 non-null  float64\n",
      " 43  f42     60078 non-null  float64\n",
      " 44  f43     60078 non-null  float64\n",
      " 45  f44     60078 non-null  float64\n",
      " 46  f45     54630 non-null  float64\n",
      " 47  f46     54630 non-null  float64\n",
      " 48  f47     54630 non-null  float64\n",
      " 49  f48     54630 non-null  float64\n",
      " 50  f49     54630 non-null  float64\n",
      " 51  f50     54630 non-null  float64\n",
      " 52  f51     54630 non-null  float64\n",
      " 53  f52     54630 non-null  float64\n",
      " 54  f53     54630 non-null  float64\n",
      " 55  f54     54630 non-null  float64\n",
      " 56  f55     54630 non-null  float64\n",
      " 57  f56     60080 non-null  float64\n",
      " 58  f57     60078 non-null  float64\n",
      " 59  f58     60078 non-null  float64\n",
      " 60  f59     60078 non-null  float64\n",
      " 61  f60     60078 non-null  float64\n",
      " 62  f61     60078 non-null  float64\n",
      " 63  f62     60078 non-null  float64\n",
      " 64  f63     60078 non-null  float64\n",
      " 65  f64     60078 non-null  float64\n",
      " 66  f65     60078 non-null  float64\n",
      " 67  f66     60078 non-null  float64\n",
      " 68  f67     60078 non-null  float64\n",
      " 69  f68     59684 non-null  object \n",
      " 70  f69     56249 non-null  object \n",
      " 71  f70     54630 non-null  float64\n",
      " 72  f71     54630 non-null  float64\n",
      " 73  f72     54630 non-null  float64\n",
      " 74  f73     54630 non-null  float64\n",
      " 75  f74     54630 non-null  float64\n",
      " 76  f75     54630 non-null  float64\n",
      " 77  f76     54630 non-null  float64\n",
      " 78  f77     54630 non-null  float64\n",
      " 79  f78     54630 non-null  float64\n",
      " 80  f79     54630 non-null  float64\n",
      " 81  f80     54630 non-null  float64\n",
      " 82  f81     60010 non-null  object \n",
      "dtypes: float64(67), int64(12), object(4)\n",
      "memory usage: 38.5+ MB\n"
     ]
    }
   ],
   "source": [
    "df.info()"
   ]
  },
  {
   "cell_type": "code",
   "execution_count": 137,
   "metadata": {},
   "outputs": [
    {
     "data": {
      "text/plain": [
       "_id                0\n",
       "label              0\n",
       "f0                 0\n",
       "f1              6411\n",
       "f2              6411\n",
       "               ...  \n",
       "f78             6411\n",
       "f79             6411\n",
       "f80             6411\n",
       "f81               86\n",
       "Unnamed: 84    70673\n",
       "Length: 85, dtype: int64"
      ]
     },
     "execution_count": 137,
     "metadata": {},
     "output_type": "execute_result"
    }
   ],
   "source": [
    "df.isna().sum()\n"
   ]
  },
  {
   "cell_type": "code",
   "execution_count": 139,
   "metadata": {},
   "outputs": [],
   "source": [
    "# handling missing values by filling them with mode of the column:\n",
    "for col in df.columns:\n",
    "    df.fillna({col:df[col].mode()[0]}, inplace=True)"
   ]
  },
  {
   "cell_type": "code",
   "execution_count": 140,
   "metadata": {},
   "outputs": [
    {
     "data": {
      "text/plain": [
       "_id            0\n",
       "label          0\n",
       "f0             0\n",
       "f1             0\n",
       "f2             0\n",
       "              ..\n",
       "f78            0\n",
       "f79            0\n",
       "f80            0\n",
       "f81            0\n",
       "Unnamed: 84    0\n",
       "Length: 85, dtype: int64"
      ]
     },
     "execution_count": 140,
     "metadata": {},
     "output_type": "execute_result"
    }
   ],
   "source": [
    "df.isna().sum()"
   ]
  },
  {
   "cell_type": "markdown",
   "metadata": {},
   "source": [
    "#### Now, we can no longer see the NA value, all replaced with mode of each column"
   ]
  },
  {
   "cell_type": "code",
   "execution_count": 10,
   "metadata": {},
   "outputs": [
    {
     "data": {
      "text/plain": [
       "Index(['_id', 'label', 'f0', 'f1', 'f2', 'f3', 'f4', 'f5', 'f6', 'f7', 'f8',\n",
       "       'f9', 'f10', 'f11', 'f12', 'f13', 'f14', 'f15', 'f16', 'f17', 'f18',\n",
       "       'f19', 'f20', 'f21', 'f22', 'f23', 'f24', 'f25', 'f26', 'f27', 'f28',\n",
       "       'f29', 'f30', 'f31', 'f32', 'f33', 'f34', 'f35', 'f36', 'f37', 'f38',\n",
       "       'f39', 'f40', 'f41', 'f42', 'f43', 'f44', 'f45', 'f46', 'f47', 'f48',\n",
       "       'f49', 'f50', 'f51', 'f52', 'f53', 'f54', 'f55', 'f56', 'f57', 'f58',\n",
       "       'f59', 'f60', 'f61', 'f62', 'f63', 'f64', 'f65', 'f66', 'f67', 'f68',\n",
       "       'f69', 'f70', 'f71', 'f72', 'f73', 'f74', 'f75', 'f76', 'f77', 'f78',\n",
       "       'f79', 'f80', 'f81', 'Unnamed: 84'],\n",
       "      dtype='object')"
      ]
     },
     "execution_count": 10,
     "metadata": {},
     "output_type": "execute_result"
    }
   ],
   "source": [
    "df.columns"
   ]
  },
  {
   "cell_type": "code",
   "execution_count": 11,
   "metadata": {},
   "outputs": [
    {
     "data": {
      "text/plain": [
       "0"
      ]
     },
     "execution_count": 11,
     "metadata": {},
     "output_type": "execute_result"
    }
   ],
   "source": [
    "df['Unnamed: 84'].isna().sum()"
   ]
  },
  {
   "cell_type": "code",
   "execution_count": 12,
   "metadata": {},
   "outputs": [
    {
     "data": {
      "text/plain": [
       "label\n",
       "0    61244\n",
       "1     9476\n",
       "Name: count, dtype: int64"
      ]
     },
     "execution_count": 12,
     "metadata": {},
     "output_type": "execute_result"
    }
   ],
   "source": [
    "df['label'].value_counts()\n"
   ]
  },
  {
   "cell_type": "code",
   "execution_count": 13,
   "metadata": {},
   "outputs": [
    {
     "data": {
      "text/html": [
       "<div>\n",
       "<style scoped>\n",
       "    .dataframe tbody tr th:only-of-type {\n",
       "        vertical-align: middle;\n",
       "    }\n",
       "\n",
       "    .dataframe tbody tr th {\n",
       "        vertical-align: top;\n",
       "    }\n",
       "\n",
       "    .dataframe thead th {\n",
       "        text-align: right;\n",
       "    }\n",
       "</style>\n",
       "<table border=\"1\" class=\"dataframe\">\n",
       "  <thead>\n",
       "    <tr style=\"text-align: right;\">\n",
       "      <th></th>\n",
       "      <th>label</th>\n",
       "      <th>f1</th>\n",
       "      <th>f2</th>\n",
       "      <th>f3</th>\n",
       "      <th>f4</th>\n",
       "      <th>f5</th>\n",
       "      <th>f6</th>\n",
       "      <th>f7</th>\n",
       "      <th>f8</th>\n",
       "      <th>f9</th>\n",
       "      <th>...</th>\n",
       "      <th>f72</th>\n",
       "      <th>f73</th>\n",
       "      <th>f74</th>\n",
       "      <th>f75</th>\n",
       "      <th>f76</th>\n",
       "      <th>f77</th>\n",
       "      <th>f78</th>\n",
       "      <th>f79</th>\n",
       "      <th>f80</th>\n",
       "      <th>Unnamed: 84</th>\n",
       "    </tr>\n",
       "  </thead>\n",
       "  <tbody>\n",
       "    <tr>\n",
       "      <th>count</th>\n",
       "      <td>70720.000000</td>\n",
       "      <td>7.072000e+04</td>\n",
       "      <td>7.072000e+04</td>\n",
       "      <td>70720.000000</td>\n",
       "      <td>70720.000000</td>\n",
       "      <td>7.072000e+04</td>\n",
       "      <td>7.072000e+04</td>\n",
       "      <td>7.072000e+04</td>\n",
       "      <td>7.072000e+04</td>\n",
       "      <td>7.072000e+04</td>\n",
       "      <td>...</td>\n",
       "      <td>70720.000000</td>\n",
       "      <td>7.072000e+04</td>\n",
       "      <td>7.072000e+04</td>\n",
       "      <td>7.072000e+04</td>\n",
       "      <td>7.072000e+04</td>\n",
       "      <td>7.072000e+04</td>\n",
       "      <td>7.072000e+04</td>\n",
       "      <td>7.072000e+04</td>\n",
       "      <td>7.072000e+04</td>\n",
       "      <td>70720.0</td>\n",
       "    </tr>\n",
       "    <tr>\n",
       "      <th>mean</th>\n",
       "      <td>0.133993</td>\n",
       "      <td>6.468078e+04</td>\n",
       "      <td>-7.278986e+05</td>\n",
       "      <td>0.196233</td>\n",
       "      <td>2.925839</td>\n",
       "      <td>-4.854648e+05</td>\n",
       "      <td>-4.854707e+05</td>\n",
       "      <td>-4.854677e+05</td>\n",
       "      <td>-4.854707e+05</td>\n",
       "      <td>-4.854677e+05</td>\n",
       "      <td>...</td>\n",
       "      <td>0.972758</td>\n",
       "      <td>9.327695e+01</td>\n",
       "      <td>4.826205e+05</td>\n",
       "      <td>4.824267e+05</td>\n",
       "      <td>4.824622e+05</td>\n",
       "      <td>4.824264e+05</td>\n",
       "      <td>4.825031e+05</td>\n",
       "      <td>4.824269e+05</td>\n",
       "      <td>4.826207e+05</td>\n",
       "      <td>1.0</td>\n",
       "    </tr>\n",
       "    <tr>\n",
       "      <th>std</th>\n",
       "      <td>0.340647</td>\n",
       "      <td>1.203709e+07</td>\n",
       "      <td>1.440805e+08</td>\n",
       "      <td>1.699227</td>\n",
       "      <td>254.309129</td>\n",
       "      <td>9.112447e+07</td>\n",
       "      <td>9.112447e+07</td>\n",
       "      <td>9.112447e+07</td>\n",
       "      <td>9.112447e+07</td>\n",
       "      <td>9.112447e+07</td>\n",
       "      <td>...</td>\n",
       "      <td>9.608954</td>\n",
       "      <td>1.601779e+04</td>\n",
       "      <td>9.112438e+07</td>\n",
       "      <td>9.112439e+07</td>\n",
       "      <td>9.112439e+07</td>\n",
       "      <td>9.112439e+07</td>\n",
       "      <td>9.112438e+07</td>\n",
       "      <td>9.112439e+07</td>\n",
       "      <td>9.112438e+07</td>\n",
       "      <td>0.0</td>\n",
       "    </tr>\n",
       "    <tr>\n",
       "      <th>min</th>\n",
       "      <td>0.000000</td>\n",
       "      <td>0.000000e+00</td>\n",
       "      <td>-3.427073e+10</td>\n",
       "      <td>0.000000</td>\n",
       "      <td>0.000000</td>\n",
       "      <td>-1.713537e+10</td>\n",
       "      <td>-1.713537e+10</td>\n",
       "      <td>-1.713537e+10</td>\n",
       "      <td>-1.713537e+10</td>\n",
       "      <td>-1.713537e+10</td>\n",
       "      <td>...</td>\n",
       "      <td>0.000000</td>\n",
       "      <td>0.000000e+00</td>\n",
       "      <td>-1.645142e+07</td>\n",
       "      <td>-1.645142e+07</td>\n",
       "      <td>-1.645142e+07</td>\n",
       "      <td>-1.645142e+07</td>\n",
       "      <td>-1.645142e+07</td>\n",
       "      <td>-1.645142e+07</td>\n",
       "      <td>-1.645142e+07</td>\n",
       "      <td>1.0</td>\n",
       "    </tr>\n",
       "    <tr>\n",
       "      <th>25%</th>\n",
       "      <td>0.000000</td>\n",
       "      <td>0.000000e+00</td>\n",
       "      <td>-4.000000e+01</td>\n",
       "      <td>0.000000</td>\n",
       "      <td>0.000000</td>\n",
       "      <td>-3.300000e+01</td>\n",
       "      <td>-3.500000e+01</td>\n",
       "      <td>-3.450000e+01</td>\n",
       "      <td>-3.500000e+01</td>\n",
       "      <td>-3.500000e+01</td>\n",
       "      <td>...</td>\n",
       "      <td>0.000000</td>\n",
       "      <td>0.000000e+00</td>\n",
       "      <td>0.000000e+00</td>\n",
       "      <td>0.000000e+00</td>\n",
       "      <td>0.000000e+00</td>\n",
       "      <td>0.000000e+00</td>\n",
       "      <td>0.000000e+00</td>\n",
       "      <td>0.000000e+00</td>\n",
       "      <td>0.000000e+00</td>\n",
       "      <td>1.0</td>\n",
       "    </tr>\n",
       "    <tr>\n",
       "      <th>50%</th>\n",
       "      <td>0.000000</td>\n",
       "      <td>0.000000e+00</td>\n",
       "      <td>0.000000e+00</td>\n",
       "      <td>0.000000</td>\n",
       "      <td>0.000000</td>\n",
       "      <td>0.000000e+00</td>\n",
       "      <td>0.000000e+00</td>\n",
       "      <td>0.000000e+00</td>\n",
       "      <td>0.000000e+00</td>\n",
       "      <td>0.000000e+00</td>\n",
       "      <td>...</td>\n",
       "      <td>0.000000</td>\n",
       "      <td>0.000000e+00</td>\n",
       "      <td>8.200000e+01</td>\n",
       "      <td>7.400000e+01</td>\n",
       "      <td>7.900000e+01</td>\n",
       "      <td>7.400000e+01</td>\n",
       "      <td>7.900000e+01</td>\n",
       "      <td>7.400000e+01</td>\n",
       "      <td>8.200000e+01</td>\n",
       "      <td>1.0</td>\n",
       "    </tr>\n",
       "    <tr>\n",
       "      <th>75%</th>\n",
       "      <td>0.000000</td>\n",
       "      <td>0.000000e+00</td>\n",
       "      <td>0.000000e+00</td>\n",
       "      <td>0.000000</td>\n",
       "      <td>0.000000</td>\n",
       "      <td>0.000000e+00</td>\n",
       "      <td>0.000000e+00</td>\n",
       "      <td>0.000000e+00</td>\n",
       "      <td>0.000000e+00</td>\n",
       "      <td>0.000000e+00</td>\n",
       "      <td>...</td>\n",
       "      <td>0.000000</td>\n",
       "      <td>0.000000e+00</td>\n",
       "      <td>1.520000e+02</td>\n",
       "      <td>1.360000e+02</td>\n",
       "      <td>1.440000e+02</td>\n",
       "      <td>1.360000e+02</td>\n",
       "      <td>1.440000e+02</td>\n",
       "      <td>1.360000e+02</td>\n",
       "      <td>1.520000e+02</td>\n",
       "      <td>1.0</td>\n",
       "    </tr>\n",
       "    <tr>\n",
       "      <th>max</th>\n",
       "      <td>1.000000</td>\n",
       "      <td>2.435324e+09</td>\n",
       "      <td>3.153587e+07</td>\n",
       "      <td>222.146300</td>\n",
       "      <td>49349.000000</td>\n",
       "      <td>3.153587e+07</td>\n",
       "      <td>3.153587e+07</td>\n",
       "      <td>3.153587e+07</td>\n",
       "      <td>3.153587e+07</td>\n",
       "      <td>3.153587e+07</td>\n",
       "      <td>...</td>\n",
       "      <td>2040.000400</td>\n",
       "      <td>4.161602e+06</td>\n",
       "      <td>1.713537e+10</td>\n",
       "      <td>1.713537e+10</td>\n",
       "      <td>1.713537e+10</td>\n",
       "      <td>1.713537e+10</td>\n",
       "      <td>1.713537e+10</td>\n",
       "      <td>1.713537e+10</td>\n",
       "      <td>1.713537e+10</td>\n",
       "      <td>1.0</td>\n",
       "    </tr>\n",
       "  </tbody>\n",
       "</table>\n",
       "<p>8 rows × 80 columns</p>\n",
       "</div>"
      ],
      "text/plain": [
       "              label            f1            f2            f3            f4  \\\n",
       "count  70720.000000  7.072000e+04  7.072000e+04  70720.000000  70720.000000   \n",
       "mean       0.133993  6.468078e+04 -7.278986e+05      0.196233      2.925839   \n",
       "std        0.340647  1.203709e+07  1.440805e+08      1.699227    254.309129   \n",
       "min        0.000000  0.000000e+00 -3.427073e+10      0.000000      0.000000   \n",
       "25%        0.000000  0.000000e+00 -4.000000e+01      0.000000      0.000000   \n",
       "50%        0.000000  0.000000e+00  0.000000e+00      0.000000      0.000000   \n",
       "75%        0.000000  0.000000e+00  0.000000e+00      0.000000      0.000000   \n",
       "max        1.000000  2.435324e+09  3.153587e+07    222.146300  49349.000000   \n",
       "\n",
       "                 f5            f6            f7            f8            f9  \\\n",
       "count  7.072000e+04  7.072000e+04  7.072000e+04  7.072000e+04  7.072000e+04   \n",
       "mean  -4.854648e+05 -4.854707e+05 -4.854677e+05 -4.854707e+05 -4.854677e+05   \n",
       "std    9.112447e+07  9.112447e+07  9.112447e+07  9.112447e+07  9.112447e+07   \n",
       "min   -1.713537e+10 -1.713537e+10 -1.713537e+10 -1.713537e+10 -1.713537e+10   \n",
       "25%   -3.300000e+01 -3.500000e+01 -3.450000e+01 -3.500000e+01 -3.500000e+01   \n",
       "50%    0.000000e+00  0.000000e+00  0.000000e+00  0.000000e+00  0.000000e+00   \n",
       "75%    0.000000e+00  0.000000e+00  0.000000e+00  0.000000e+00  0.000000e+00   \n",
       "max    3.153587e+07  3.153587e+07  3.153587e+07  3.153587e+07  3.153587e+07   \n",
       "\n",
       "       ...           f72           f73           f74           f75  \\\n",
       "count  ...  70720.000000  7.072000e+04  7.072000e+04  7.072000e+04   \n",
       "mean   ...      0.972758  9.327695e+01  4.826205e+05  4.824267e+05   \n",
       "std    ...      9.608954  1.601779e+04  9.112438e+07  9.112439e+07   \n",
       "min    ...      0.000000  0.000000e+00 -1.645142e+07 -1.645142e+07   \n",
       "25%    ...      0.000000  0.000000e+00  0.000000e+00  0.000000e+00   \n",
       "50%    ...      0.000000  0.000000e+00  8.200000e+01  7.400000e+01   \n",
       "75%    ...      0.000000  0.000000e+00  1.520000e+02  1.360000e+02   \n",
       "max    ...   2040.000400  4.161602e+06  1.713537e+10  1.713537e+10   \n",
       "\n",
       "                f76           f77           f78           f79           f80  \\\n",
       "count  7.072000e+04  7.072000e+04  7.072000e+04  7.072000e+04  7.072000e+04   \n",
       "mean   4.824622e+05  4.824264e+05  4.825031e+05  4.824269e+05  4.826207e+05   \n",
       "std    9.112439e+07  9.112439e+07  9.112438e+07  9.112439e+07  9.112438e+07   \n",
       "min   -1.645142e+07 -1.645142e+07 -1.645142e+07 -1.645142e+07 -1.645142e+07   \n",
       "25%    0.000000e+00  0.000000e+00  0.000000e+00  0.000000e+00  0.000000e+00   \n",
       "50%    7.900000e+01  7.400000e+01  7.900000e+01  7.400000e+01  8.200000e+01   \n",
       "75%    1.440000e+02  1.360000e+02  1.440000e+02  1.360000e+02  1.520000e+02   \n",
       "max    1.713537e+10  1.713537e+10  1.713537e+10  1.713537e+10  1.713537e+10   \n",
       "\n",
       "       Unnamed: 84  \n",
       "count      70720.0  \n",
       "mean           1.0  \n",
       "std            0.0  \n",
       "min            1.0  \n",
       "25%            1.0  \n",
       "50%            1.0  \n",
       "75%            1.0  \n",
       "max            1.0  \n",
       "\n",
       "[8 rows x 80 columns]"
      ]
     },
     "execution_count": 13,
     "metadata": {},
     "output_type": "execute_result"
    }
   ],
   "source": [
    "df.describe()"
   ]
  },
  {
   "cell_type": "code",
   "execution_count": 81,
   "metadata": {},
   "outputs": [
    {
     "data": {
      "text/plain": [
       "'{\"label\":1.0,\"f0\":0.0,\"f1\":0.0,\"f2\":-43.0,\"f3\":0.0,\"f4\":0.0,\"f12\":0.0,\"f13\":0.0,\"f14\":0.0,\"f15\":0.0,\"f16\":0.0,\"f21\":261.0,\"f23\":0.0,\"f24\":24.0,\"f25\":0.0,\"f26\":0.0,\"f34\":0.0,\"f35\":43.0,\"f36\":0.0,\"f37\":0.0,\"f45\":0.0,\"f46\":0.0,\"f47\":0.0,\"f48\":0.0,\"f56\":300.0,\"f57\":0.0,\"f58\":261.0,\"f59\":0.0,\"f60\":0.0,\"f68\":1.0,\"f69\":3.0,\"f70\":0.0,\"f71\":238.0,\"f72\":0.0,\"f73\":0.0,\"f81\":241.0,\"PCA_f5\":-1284314.2165239719,\"PCA_f17\":-0.0071386548,\"PCA_f27\":-47.8007040393,\"PCA_f38\":-41.3910826664,\"PCA_f49\":-18.3257203272,\"PCA_f61\":113.0112778933,\"PCA_f74\":-1275940.1861535397}'"
      ]
     },
     "execution_count": 81,
     "metadata": {},
     "output_type": "execute_result"
    }
   ],
   "source": [
    "# Add mew data to the data2.csv file\n"
   ]
  },
  {
   "cell_type": "code",
   "execution_count": 27,
   "metadata": {},
   "outputs": [
    {
     "data": {
      "text/plain": [
       "label\n",
       "0    50609\n",
       "1     9471\n",
       "Name: count, dtype: int64"
      ]
     },
     "execution_count": 27,
     "metadata": {},
     "output_type": "execute_result"
    }
   ],
   "source": [
    "df[~df[df.columns[1:]].duplicated()]['label'].value_counts()"
   ]
  },
  {
   "cell_type": "code",
   "execution_count": 29,
   "metadata": {},
   "outputs": [
    {
     "data": {
      "text/plain": [
       "label\n",
       "0    10635\n",
       "1        5\n",
       "Name: count, dtype: int64"
      ]
     },
     "execution_count": 29,
     "metadata": {},
     "output_type": "execute_result"
    }
   ],
   "source": [
    "df[df[df.columns[1:]].duplicated()]['label'].value_counts()"
   ]
  },
  {
   "cell_type": "code",
   "execution_count": 33,
   "metadata": {},
   "outputs": [],
   "source": [
    "# Drop duplicates keep the first occurence\n",
    "df.drop(columns=['_id','Unnamed: 84'], inplace=True)\n",
    "# df = df[~df[df.columns].duplicated()]\n",
    "df = df.drop_duplicates(subset=df.columns, keep='first')\n"
   ]
  },
  {
   "cell_type": "code",
   "execution_count": 17,
   "metadata": {},
   "outputs": [
    {
     "data": {
      "text/plain": [
       "f81\n",
       "243010    14680\n",
       "243030     9659\n",
       "243060     7792\n",
       "243020     6947\n",
       "243050     6809\n",
       "236040     4352\n",
       "103010     1696\n",
       "236050     1696\n",
       "101010     1559\n",
       "243040     1441\n",
       "102020     1138\n",
       "102010      839\n",
       "104010      743\n",
       "C00000      564\n",
       "101020      530\n",
       "242020      503\n",
       "103060      494\n",
       "236020      425\n",
       "109030      417\n",
       "104030      406\n",
       "104020      398\n",
       "C000        373\n",
       "242010      354\n",
       "109010      347\n",
       "105010      335\n",
       "106030      322\n",
       "106010      316\n",
       "C182        298\n",
       "109020      249\n",
       "236010      230\n",
       "243080      229\n",
       "112010      225\n",
       "101030      225\n",
       "102030      223\n",
       "103040      173\n",
       "106020      148\n",
       "C668        122\n",
       "109040      121\n",
       "110010      118\n",
       "C538        108\n",
       "274020      102\n",
       "115010       99\n",
       "107010       97\n",
       "105040       95\n",
       "103030       89\n",
       "111010       83\n",
       "194010       80\n",
       "113020       78\n",
       "103070       73\n",
       "108010       67\n",
       "113010       62\n",
       "102050       59\n",
       "236030       55\n",
       "105020       52\n",
       "157030       50\n",
       "110030       47\n",
       "157010       46\n",
       "103020       46\n",
       "274010       44\n",
       "158010       41\n",
       "Name: count, dtype: int64"
      ]
     },
     "execution_count": 17,
     "metadata": {},
     "output_type": "execute_result"
    }
   ],
   "source": [
    "df['f81'].value_counts()[0:60]"
   ]
  },
  {
   "cell_type": "code",
   "execution_count": 18,
   "metadata": {},
   "outputs": [],
   "source": [
    "# df[df.columns[14:23]]"
   ]
  },
  {
   "cell_type": "code",
   "execution_count": 19,
   "metadata": {},
   "outputs": [],
   "source": [
    "# df['label'].dtype\n"
   ]
  },
  {
   "cell_type": "code",
   "execution_count": 20,
   "metadata": {},
   "outputs": [],
   "source": [
    "# endcoding for category columns\n",
    "from sklearn.preprocessing import LabelEncoder\n",
    "le = LabelEncoder()\n",
    "for i in df.columns:\n",
    "    if df[i].dtype == 'object':\n",
    "        df[i] = le.fit_transform(df[i])"
   ]
  },
  {
   "cell_type": "code",
   "execution_count": 21,
   "metadata": {},
   "outputs": [
    {
     "data": {
      "image/png": "[encoded data removed]",
      "text/plain": [
       "<Figure size 1800x1800 with 2 Axes>"
      ]
     },
     "metadata": {},
     "output_type": "display_data"
    }
   ],
   "source": [
    "corr = df.corr()\n",
    "plt.figure(figsize=(18,18))\n",
    "sns.heatmap(corr,xticklabels=corr.columns,yticklabels=corr.columns,linewidths=.1,cmap=\"Blues\")\n",
    "plt.show()"
   ]
  },
  {
   "cell_type": "markdown",
   "metadata": {},
   "source": [
    "#### All the features that highly correlated to each other are shown on the heatmap.\n",
    "#### They all stay a long the diagonal of the square\n",
    "#### We could recognize that there are 7 groups of features that mutually correlated, for example : {'f5', 'f6', 'f7', 'f8', 'f9','f10','f11'}, {f17', 'f18', 'f19', 'f20'}"
   ]
  },
  {
   "cell_type": "code",
   "execution_count": 22,
   "metadata": {},
   "outputs": [
    {
     "data": {
      "text/plain": [
       "f22\n",
       "1    70720\n",
       "Name: count, dtype: int64"
      ]
     },
     "execution_count": 22,
     "metadata": {},
     "output_type": "execute_result"
    }
   ],
   "source": [
    "df['f22'].value_counts()"
   ]
  },
  {
   "cell_type": "code",
   "execution_count": 23,
   "metadata": {},
   "outputs": [],
   "source": [
    "# List of groups of highly correlated features\n",
    "group1 = ['f5', 'f6', 'f7', 'f8', 'f9','f10','f11']\n",
    "group2 = ['f17', 'f18', 'f19', 'f20']\n",
    "group3 = ['f27', 'f28', 'f29', 'f30', 'f31','f32','f33']\n",
    "group4 = ['f38', 'f39', 'f40', 'f41', 'f42','f43','f44']\n",
    "group5 = ['f49', 'f50', 'f51', 'f52', 'f53','f54','f55']\n",
    "group6 = ['f61', 'f62', 'f63', 'f64', 'f65','f66','f67']\n",
    "group7 = ['f74', 'f75', 'f76', 'f77', 'f78','f79','f80']\n",
    "\n",
    "groups = [group1, group2, group3, group4, group5, group6, group7]"
   ]
  },
  {
   "cell_type": "code",
   "execution_count": 24,
   "metadata": {},
   "outputs": [],
   "source": [
    "# F22 contributed nothing to the dataset\n",
    "df.drop(columns = ['f22'], inplace=True)"
   ]
  },
  {
   "cell_type": "code",
   "execution_count": 25,
   "metadata": {},
   "outputs": [
    {
     "name": "stdout",
     "output_type": "stream",
     "text": [
      "<class 'pandas.core.frame.DataFrame'>\n",
      "RangeIndex: 70720 entries, 0 to 70719\n",
      "Data columns (total 82 columns):\n",
      " #   Column  Non-Null Count  Dtype  \n",
      "---  ------  --------------  -----  \n",
      " 0   label   70720 non-null  int64  \n",
      " 1   f0      70720 non-null  int32  \n",
      " 2   f1      70720 non-null  float64\n",
      " 3   f2      70720 non-null  float64\n",
      " 4   f3      70720 non-null  float64\n",
      " 5   f4      70720 non-null  float64\n",
      " 6   f5      70720 non-null  float64\n",
      " 7   f6      70720 non-null  float64\n",
      " 8   f7      70720 non-null  float64\n",
      " 9   f8      70720 non-null  float64\n",
      " 10  f9      70720 non-null  float64\n",
      " 11  f10     70720 non-null  float64\n",
      " 12  f11     70720 non-null  float64\n",
      " 13  f12     70720 non-null  int64  \n",
      " 14  f13     70720 non-null  int64  \n",
      " 15  f14     70720 non-null  int64  \n",
      " 16  f15     70720 non-null  int64  \n",
      " 17  f16     70720 non-null  int64  \n",
      " 18  f17     70720 non-null  int64  \n",
      " 19  f18     70720 non-null  int64  \n",
      " 20  f19     70720 non-null  int64  \n",
      " 21  f20     70720 non-null  int64  \n",
      " 22  f21     70720 non-null  int64  \n",
      " 23  f23     70720 non-null  float64\n",
      " 24  f24     70720 non-null  float64\n",
      " 25  f25     70720 non-null  float64\n",
      " 26  f26     70720 non-null  float64\n",
      " 27  f27     70720 non-null  float64\n",
      " 28  f28     70720 non-null  float64\n",
      " 29  f29     70720 non-null  float64\n",
      " 30  f30     70720 non-null  float64\n",
      " 31  f31     70720 non-null  float64\n",
      " 32  f32     70720 non-null  float64\n",
      " 33  f33     70720 non-null  float64\n",
      " 34  f34     70720 non-null  float64\n",
      " 35  f35     70720 non-null  float64\n",
      " 36  f36     70720 non-null  float64\n",
      " 37  f37     70720 non-null  float64\n",
      " 38  f38     70720 non-null  float64\n",
      " 39  f39     70720 non-null  float64\n",
      " 40  f40     70720 non-null  float64\n",
      " 41  f41     70720 non-null  float64\n",
      " 42  f42     70720 non-null  float64\n",
      " 43  f43     70720 non-null  float64\n",
      " 44  f44     70720 non-null  float64\n",
      " 45  f45     70720 non-null  float64\n",
      " 46  f46     70720 non-null  float64\n",
      " 47  f47     70720 non-null  float64\n",
      " 48  f48     70720 non-null  float64\n",
      " 49  f49     70720 non-null  float64\n",
      " 50  f50     70720 non-null  float64\n",
      " 51  f51     70720 non-null  float64\n",
      " 52  f52     70720 non-null  float64\n",
      " 53  f53     70720 non-null  float64\n",
      " 54  f54     70720 non-null  float64\n",
      " 55  f55     70720 non-null  float64\n",
      " 56  f56     70720 non-null  float64\n",
      " 57  f57     70720 non-null  float64\n",
      " 58  f58     70720 non-null  float64\n",
      " 59  f59     70720 non-null  float64\n",
      " 60  f60     70720 non-null  float64\n",
      " 61  f61     70720 non-null  float64\n",
      " 62  f62     70720 non-null  float64\n",
      " 63  f63     70720 non-null  float64\n",
      " 64  f64     70720 non-null  float64\n",
      " 65  f65     70720 non-null  float64\n",
      " 66  f66     70720 non-null  float64\n",
      " 67  f67     70720 non-null  float64\n",
      " 68  f68     70720 non-null  int32  \n",
      " 69  f69     70720 non-null  int32  \n",
      " 70  f70     70720 non-null  float64\n",
      " 71  f71     70720 non-null  float64\n",
      " 72  f72     70720 non-null  float64\n",
      " 73  f73     70720 non-null  float64\n",
      " 74  f74     70720 non-null  float64\n",
      " 75  f75     70720 non-null  float64\n",
      " 76  f76     70720 non-null  float64\n",
      " 77  f77     70720 non-null  float64\n",
      " 78  f78     70720 non-null  float64\n",
      " 79  f79     70720 non-null  float64\n",
      " 80  f80     70720 non-null  float64\n",
      " 81  f81     70720 non-null  int32  \n",
      "dtypes: float64(67), int32(4), int64(11)\n",
      "memory usage: 43.2 MB\n"
     ]
    }
   ],
   "source": [
    "df.info()"
   ]
  },
  {
   "cell_type": "code",
   "execution_count": 26,
   "metadata": {},
   "outputs": [
    {
     "data": {
      "text/html": [
       "<div>\n",
       "<style scoped>\n",
       "    .dataframe tbody tr th:only-of-type {\n",
       "        vertical-align: middle;\n",
       "    }\n",
       "\n",
       "    .dataframe tbody tr th {\n",
       "        vertical-align: top;\n",
       "    }\n",
       "\n",
       "    .dataframe thead th {\n",
       "        text-align: right;\n",
       "    }\n",
       "</style>\n",
       "<table border=\"1\" class=\"dataframe\">\n",
       "  <thead>\n",
       "    <tr style=\"text-align: right;\">\n",
       "      <th></th>\n",
       "      <th>label</th>\n",
       "      <th>f0</th>\n",
       "      <th>f1</th>\n",
       "      <th>f2</th>\n",
       "      <th>f3</th>\n",
       "      <th>f4</th>\n",
       "      <th>f12</th>\n",
       "      <th>f13</th>\n",
       "      <th>f14</th>\n",
       "      <th>f15</th>\n",
       "      <th>...</th>\n",
       "      <th>f72</th>\n",
       "      <th>f73</th>\n",
       "      <th>f81</th>\n",
       "      <th>PCA_f5</th>\n",
       "      <th>PCA_f17</th>\n",
       "      <th>PCA_f27</th>\n",
       "      <th>PCA_f38</th>\n",
       "      <th>PCA_f49</th>\n",
       "      <th>PCA_f61</th>\n",
       "      <th>PCA_f74</th>\n",
       "    </tr>\n",
       "  </thead>\n",
       "  <tbody>\n",
       "    <tr>\n",
       "      <th>0</th>\n",
       "      <td>1</td>\n",
       "      <td>0</td>\n",
       "      <td>0.0</td>\n",
       "      <td>-43.0</td>\n",
       "      <td>0.0</td>\n",
       "      <td>0.0</td>\n",
       "      <td>0</td>\n",
       "      <td>0</td>\n",
       "      <td>0</td>\n",
       "      <td>0</td>\n",
       "      <td>...</td>\n",
       "      <td>0.0</td>\n",
       "      <td>0.0</td>\n",
       "      <td>241</td>\n",
       "      <td>-1.284314e+06</td>\n",
       "      <td>-0.007139</td>\n",
       "      <td>-47.800704</td>\n",
       "      <td>-41.391083</td>\n",
       "      <td>-18.32572</td>\n",
       "      <td>113.011278</td>\n",
       "      <td>-1.275940e+06</td>\n",
       "    </tr>\n",
       "    <tr>\n",
       "      <th>1</th>\n",
       "      <td>1</td>\n",
       "      <td>0</td>\n",
       "      <td>0.0</td>\n",
       "      <td>0.0</td>\n",
       "      <td>0.0</td>\n",
       "      <td>0.0</td>\n",
       "      <td>0</td>\n",
       "      <td>0</td>\n",
       "      <td>0</td>\n",
       "      <td>0</td>\n",
       "      <td>...</td>\n",
       "      <td>0.0</td>\n",
       "      <td>0.0</td>\n",
       "      <td>231</td>\n",
       "      <td>-1.284428e+06</td>\n",
       "      <td>-0.007139</td>\n",
       "      <td>18.342978</td>\n",
       "      <td>24.752662</td>\n",
       "      <td>-18.32572</td>\n",
       "      <td>-51.023553</td>\n",
       "      <td>-1.276070e+06</td>\n",
       "    </tr>\n",
       "    <tr>\n",
       "      <th>2</th>\n",
       "      <td>1</td>\n",
       "      <td>0</td>\n",
       "      <td>0.0</td>\n",
       "      <td>0.0</td>\n",
       "      <td>0.0</td>\n",
       "      <td>0.0</td>\n",
       "      <td>0</td>\n",
       "      <td>0</td>\n",
       "      <td>0</td>\n",
       "      <td>0</td>\n",
       "      <td>...</td>\n",
       "      <td>0.0</td>\n",
       "      <td>0.0</td>\n",
       "      <td>233</td>\n",
       "      <td>-1.284428e+06</td>\n",
       "      <td>-0.007139</td>\n",
       "      <td>-47.800704</td>\n",
       "      <td>-41.391083</td>\n",
       "      <td>-18.32572</td>\n",
       "      <td>525.744078</td>\n",
       "      <td>-1.276266e+06</td>\n",
       "    </tr>\n",
       "    <tr>\n",
       "      <th>3</th>\n",
       "      <td>1</td>\n",
       "      <td>0</td>\n",
       "      <td>0.0</td>\n",
       "      <td>-24.0</td>\n",
       "      <td>0.0</td>\n",
       "      <td>0.0</td>\n",
       "      <td>0</td>\n",
       "      <td>1</td>\n",
       "      <td>0</td>\n",
       "      <td>0</td>\n",
       "      <td>...</td>\n",
       "      <td>0.0</td>\n",
       "      <td>0.0</td>\n",
       "      <td>12</td>\n",
       "      <td>-1.284396e+06</td>\n",
       "      <td>-0.007139</td>\n",
       "      <td>18.342978</td>\n",
       "      <td>24.752662</td>\n",
       "      <td>-18.32572</td>\n",
       "      <td>-229.794052</td>\n",
       "      <td>-1.276279e+06</td>\n",
       "    </tr>\n",
       "    <tr>\n",
       "      <th>4</th>\n",
       "      <td>1</td>\n",
       "      <td>0</td>\n",
       "      <td>0.0</td>\n",
       "      <td>-38.0</td>\n",
       "      <td>0.0</td>\n",
       "      <td>0.0</td>\n",
       "      <td>0</td>\n",
       "      <td>0</td>\n",
       "      <td>0</td>\n",
       "      <td>0</td>\n",
       "      <td>...</td>\n",
       "      <td>0.0</td>\n",
       "      <td>0.0</td>\n",
       "      <td>241</td>\n",
       "      <td>-1.284327e+06</td>\n",
       "      <td>-0.007139</td>\n",
       "      <td>-47.800704</td>\n",
       "      <td>-41.391083</td>\n",
       "      <td>-18.32572</td>\n",
       "      <td>-127.749522</td>\n",
       "      <td>-1.276197e+06</td>\n",
       "    </tr>\n",
       "  </tbody>\n",
       "</table>\n",
       "<p>5 rows × 43 columns</p>\n",
       "</div>"
      ],
      "text/plain": [
       "   label  f0   f1    f2   f3   f4  f12  f13  f14  f15  ...  f72  f73  f81  \\\n",
       "0      1   0  0.0 -43.0  0.0  0.0    0    0    0    0  ...  0.0  0.0  241   \n",
       "1      1   0  0.0   0.0  0.0  0.0    0    0    0    0  ...  0.0  0.0  231   \n",
       "2      1   0  0.0   0.0  0.0  0.0    0    0    0    0  ...  0.0  0.0  233   \n",
       "3      1   0  0.0 -24.0  0.0  0.0    0    1    0    0  ...  0.0  0.0   12   \n",
       "4      1   0  0.0 -38.0  0.0  0.0    0    0    0    0  ...  0.0  0.0  241   \n",
       "\n",
       "         PCA_f5   PCA_f17    PCA_f27    PCA_f38   PCA_f49     PCA_f61  \\\n",
       "0 -1.284314e+06 -0.007139 -47.800704 -41.391083 -18.32572  113.011278   \n",
       "1 -1.284428e+06 -0.007139  18.342978  24.752662 -18.32572  -51.023553   \n",
       "2 -1.284428e+06 -0.007139 -47.800704 -41.391083 -18.32572  525.744078   \n",
       "3 -1.284396e+06 -0.007139  18.342978  24.752662 -18.32572 -229.794052   \n",
       "4 -1.284327e+06 -0.007139 -47.800704 -41.391083 -18.32572 -127.749522   \n",
       "\n",
       "        PCA_f74  \n",
       "0 -1.275940e+06  \n",
       "1 -1.276070e+06  \n",
       "2 -1.276266e+06  \n",
       "3 -1.276279e+06  \n",
       "4 -1.276197e+06  \n",
       "\n",
       "[5 rows x 43 columns]"
      ]
     },
     "execution_count": 26,
     "metadata": {},
     "output_type": "execute_result"
    }
   ],
   "source": [
    "\n",
    "# Function to apply PCA to a group of features and replace the original features with one principal component\n",
    "def apply_pca_to_group(data, group, n_components=1):\n",
    "    pca = PCA(n_components=n_components)\n",
    "    pca_components = pca.fit_transform(data[group])\n",
    "    pca_column = f'PCA_{group[0]}'\n",
    "    data[pca_column] = pca_components\n",
    "    data.drop(columns=group,inplace=True)\n",
    "    return data\n",
    "\n",
    "# Apply PCA to each group and update the dataframe\n",
    "for group in groups:\n",
    "    df_pca = apply_pca_to_group(df, group, n_components=1)\n",
    "\n",
    "# Display the updated dataframe\n",
    "df_pca.head()\n"
   ]
  },
  {
   "cell_type": "code",
   "execution_count": 27,
   "metadata": {},
   "outputs": [
    {
     "name": "stdout",
     "output_type": "stream",
     "text": [
      "<class 'pandas.core.frame.DataFrame'>\n",
      "RangeIndex: 70720 entries, 0 to 70719\n",
      "Data columns (total 43 columns):\n",
      " #   Column   Non-Null Count  Dtype  \n",
      "---  ------   --------------  -----  \n",
      " 0   label    70720 non-null  int64  \n",
      " 1   f0       70720 non-null  int32  \n",
      " 2   f1       70720 non-null  float64\n",
      " 3   f2       70720 non-null  float64\n",
      " 4   f3       70720 non-null  float64\n",
      " 5   f4       70720 non-null  float64\n",
      " 6   f12      70720 non-null  int64  \n",
      " 7   f13      70720 non-null  int64  \n",
      " 8   f14      70720 non-null  int64  \n",
      " 9   f15      70720 non-null  int64  \n",
      " 10  f16      70720 non-null  int64  \n",
      " 11  f21      70720 non-null  int64  \n",
      " 12  f23      70720 non-null  float64\n",
      " 13  f24      70720 non-null  float64\n",
      " 14  f25      70720 non-null  float64\n",
      " 15  f26      70720 non-null  float64\n",
      " 16  f34      70720 non-null  float64\n",
      " 17  f35      70720 non-null  float64\n",
      " 18  f36      70720 non-null  float64\n",
      " 19  f37      70720 non-null  float64\n",
      " 20  f45      70720 non-null  float64\n",
      " 21  f46      70720 non-null  float64\n",
      " 22  f47      70720 non-null  float64\n",
      " 23  f48      70720 non-null  float64\n",
      " 24  f56      70720 non-null  float64\n",
      " 25  f57      70720 non-null  float64\n",
      " 26  f58      70720 non-null  float64\n",
      " 27  f59      70720 non-null  float64\n",
      " 28  f60      70720 non-null  float64\n",
      " 29  f68      70720 non-null  int32  \n",
      " 30  f69      70720 non-null  int32  \n",
      " 31  f70      70720 non-null  float64\n",
      " 32  f71      70720 non-null  float64\n",
      " 33  f72      70720 non-null  float64\n",
      " 34  f73      70720 non-null  float64\n",
      " 35  f81      70720 non-null  int32  \n",
      " 36  PCA_f5   70720 non-null  float64\n",
      " 37  PCA_f17  70720 non-null  float64\n",
      " 38  PCA_f27  70720 non-null  float64\n",
      " 39  PCA_f38  70720 non-null  float64\n",
      " 40  PCA_f49  70720 non-null  float64\n",
      " 41  PCA_f61  70720 non-null  float64\n",
      " 42  PCA_f74  70720 non-null  float64\n",
      "dtypes: float64(32), int32(4), int64(7)\n",
      "memory usage: 22.1 MB\n"
     ]
    }
   ],
   "source": [
    "df_pca.info()"
   ]
  },
  {
   "cell_type": "code",
   "execution_count": 28,
   "metadata": {},
   "outputs": [
    {
     "data": {
      "image/png": "[encoded data removed]",
      "text/plain": [
       "<Figure size 640x480 with 1 Axes>"
      ]
     },
     "metadata": {},
     "output_type": "display_data"
    }
   ],
   "source": [
    "import seaborn as sns\n",
    "import matplotlib.pyplot as plt\n",
    "\n",
    "# Visualize the class distribution\n",
    "# sns.countplot(x='label', hue= 'label',data=df_pca) \n",
    "sns.countplot(x='label', data=df_pca) \n",
    "plt.title('Class Distribution')\n",
    "plt.xlabel('Class')\n",
    "plt.ylabel('Count')\n",
    "plt.show()\n"
   ]
  },
  {
   "cell_type": "code",
   "execution_count": 29,
   "metadata": {},
   "outputs": [],
   "source": [
    "from imblearn.over_sampling import SMOTE\n"
   ]
  },
  {
   "cell_type": "code",
   "execution_count": 30,
   "metadata": {},
   "outputs": [
    {
     "data": {
      "image/png": "[encoded data removed]",
      "text/plain": [
       "<Figure size 640x480 with 1 Axes>"
      ]
     },
     "metadata": {},
     "output_type": "display_data"
    }
   ],
   "source": [
    "\n",
    "# Separate features and target variable\n",
    "X = df_pca.drop(columns=['label'])\n",
    "y = df_pca['label']\n",
    "\n",
    "# Apply SMOTE to oversample the minority class\n",
    "smote = SMOTE(random_state=42)\n",
    "X_oversampled, y_oversampled = smote.fit_resample(X, y)\n",
    "\n",
    "# Visualize the resampled class distribution\n",
    "sns.countplot(x=y_oversampled)\n",
    "# sns.countplot(x=y_oversampled, hue=y_oversampled)\n",
    "plt.title('Class Distribution After SMOTE')\n",
    "plt.xlabel('Class')\n",
    "plt.ylabel('Count')\n",
    "plt.show()\n"
   ]
  },
  {
   "cell_type": "code",
   "execution_count": 31,
   "metadata": {},
   "outputs": [
    {
     "data": {
      "text/plain": [
       "label\n",
       "1    61244\n",
       "0    61244\n",
       "Name: count, dtype: int64"
      ]
     },
     "execution_count": 31,
     "metadata": {},
     "output_type": "execute_result"
    }
   ],
   "source": [
    "y_oversampled.value_counts()"
   ]
  },
  {
   "cell_type": "code",
   "execution_count": 32,
   "metadata": {},
   "outputs": [],
   "source": [
    "from imblearn.under_sampling import RandomUnderSampler\n",
    "\n",
    "# Assuming df_pca is the preprocessed dataset with PCA applied and 'label' is the target variable\n",
    "# X = df_pca.drop(columns=['label'])\n",
    "# y = df_pca['label']"
   ]
  },
  {
   "cell_type": "code",
   "execution_count": 33,
   "metadata": {},
   "outputs": [
    {
     "data": {
      "image/png": "[encoded data removed]",
      "text/plain": [
       "<Figure size 640x480 with 1 Axes>"
      ]
     },
     "metadata": {},
     "output_type": "display_data"
    }
   ],
   "source": [
    "rus = RandomUnderSampler(random_state=42)\n",
    "X_undersampled, y_undersampled = rus.fit_resample(X, y)\n",
    "\n",
    "# Visualize the resampled class distribution\n",
    "# sns.countplot(x=y_undersampled, hue=y_undersampled)\n",
    "sns.countplot(x=y_undersampled)\n",
    "plt.title('Class Distribution After Undersampling')\n",
    "plt.xlabel('Class')\n",
    "plt.ylabel('Count')\n",
    "plt.show()"
   ]
  },
  {
   "cell_type": "code",
   "execution_count": 34,
   "metadata": {},
   "outputs": [],
   "source": [
    "# Split the data into training and testing sets\n",
    "# Apply Kfold cross-validation to evaluate the model\n",
    "from sklearn.model_selection import train_test_split\n",
    "from sklearn.model_selection import cross_val_score, KFold\n",
    "\n"
   ]
  },
  {
   "cell_type": "code",
   "execution_count": 35,
   "metadata": {},
   "outputs": [],
   "source": [
    "\n",
    "\n",
    "\n"
   ]
  },
  {
   "cell_type": "code",
   "execution_count": 36,
   "metadata": {},
   "outputs": [],
   "source": [
    "classifiers = [\n",
    "    ('random_forest', RandomForestClassifier(random_state=42)),\n",
    "    ('logistic_regression', LogisticRegression(max_iter=1000, random_state=42)),\n",
    "    ('svm', SVC(probability=True, random_state=42)),\n",
    "    ('decision_tree', DecisionTreeClassifier(random_state=42)),\n",
    "    ('naive_bayes', GaussianNB()),\n",
    "    ('xgboost', xgb.XGBClassifier(random_state=42))\n",
    "]\n",
    "\n"
   ]
  },
  {
   "cell_type": "code",
   "execution_count": 37,
   "metadata": {},
   "outputs": [],
   "source": [
    "# Initialize KFold\n",
    "cv = KFold(n_splits=5, random_state=42, shuffle=True)\n",
    "\n",
    "# Define custom scoring\n",
    "scoring = {\n",
    "    'accuracy': make_scorer(accuracy_score),\n",
    "    'precision': make_scorer(precision_score),\n",
    "    'recall': make_scorer(recall_score),\n",
    "    'roc_auc': make_scorer(roc_auc_score)\n",
    "}\n",
    "\n",
    "# Dictionary to store results\n",
    "results = {name: {'accuracy': [], 'precision': [], 'recall': [], 'roc_auc': []} for name, _ in classifiers}\n",
    "\n",
    "# Iterate through each classifier\n",
    "for name, classifier in classifiers:\n",
    "    # Create a pipeline with a scaler and the classifier\n",
    "    pipeline = Pipeline([\n",
    "        ('scaler', StandardScaler()),  # Standardize features by removing the mean and scaling to unit variance\n",
    "        (name, classifier)\n",
    "    ])\n",
    "    \n",
    "    # Evaluate the pipeline using cross-validation\n",
    "    cv_results = cross_validate(pipeline, X_undersampled, y_undersampled, cv=cv, scoring=scoring)\n",
    "    \n",
    "    # Store the results\n",
    "    results[name]['accuracy'] = cv_results['test_accuracy']\n",
    "    results[name]['precision'] = cv_results['test_precision']\n",
    "    results[name]['recall'] = cv_results['test_recall']\n",
    "    results[name]['roc_auc'] = cv_results['test_roc_auc']\n"
   ]
  },
  {
   "cell_type": "code",
   "execution_count": 38,
   "metadata": {},
   "outputs": [
    {
     "data": {
      "image/png": "[encoded data removed]",
      "text/plain": [
       "<Figure size 1400x800 with 1 Axes>"
      ]
     },
     "metadata": {},
     "output_type": "display_data"
    }
   ],
   "source": [
    "# Convert results to a DataFrame for easier plotting\n",
    "data = []\n",
    "\n",
    "for name in results:\n",
    "    for metric in results[name]:\n",
    "        for score in results[name][metric]:\n",
    "            data.append({'Classifier': name, 'Metric': metric, 'Score': score})\n",
    "\n",
    "results_df = pd.DataFrame(data)\n",
    "\n",
    "# Plot the results\n",
    "plt.figure(figsize=(14, 8))\n",
    "sns.barplot(x='Metric', y='Score', hue='Classifier', data=results_df)\n",
    "plt.title('Classifier Performance Metrics')\n",
    "plt.ylabel('Score')\n",
    "plt.xlabel('Metric')\n",
    "plt.legend(loc='best')\n",
    "plt.show()\n"
   ]
  },
  {
   "cell_type": "code",
   "execution_count": 39,
   "metadata": {},
   "outputs": [
    {
     "data": {
      "text/plain": [
       "{'random_forest': {'accuracy': array([0.88578212, 0.89026642, 0.8939314 , 0.89076517, 0.8823219 ]),\n",
       "  'precision': array([0.88412017, 0.90224359, 0.89734043, 0.90218579, 0.90071311]),\n",
       "  'recall': array([0.88364611, 0.87877211, 0.88976793, 0.87539767, 0.86103828]),\n",
       "  'roc_auc': array([0.88574829, 0.89042939, 0.8939336 , 0.89069253, 0.88245754])},\n",
       " 'logistic_regression': {'accuracy': array([0.71458718, 0.71010288, 0.73641161, 0.72110818, 0.71635884]),\n",
       "  'precision': array([0.75604971, 0.77305906, 0.79564931, 0.76898118, 0.7777036 ]),\n",
       "  'recall': array([0.61983914, 0.60613944, 0.63660338, 0.62831389, 0.61090718]),\n",
       "  'roc_auc': array([0.71308676, 0.71157694, 0.73646431, 0.72066955, 0.71703086])},\n",
       " 'svm': {'accuracy': array([0.74544975, 0.75705619, 0.77176781, 0.75065963, 0.75435356]),\n",
       "  'precision': array([0.77141134, 0.79183673, 0.80163839, 0.77758112, 0.78978622]),\n",
       "  'recall': array([0.68579088, 0.70655567, 0.72257384, 0.69883351, 0.69743052]),\n",
       "  'roc_auc': array([0.744505  , 0.75777222, 0.77179378, 0.75041465, 0.75471632])},\n",
       " 'decision_tree': {'accuracy': array([0.84120285, 0.83909259, 0.83957784, 0.82796834, 0.83087071]),\n",
       "  'precision': array([0.83149606, 0.84417629, 0.83576642, 0.82473684, 0.83995704]),\n",
       "  'recall': array([0.84932976, 0.8371488 , 0.84546414, 0.83085896, 0.82013634]),\n",
       "  'roc_auc': array([0.84133155, 0.83912015, 0.83957473, 0.827982  , 0.83093912])},\n",
       " 'naive_bayes': {'accuracy': array([0.60300712, 0.59905038, 0.61187335, 0.61081794, 0.60263852]),\n",
       "  'precision': array([0.93478261, 0.94469027, 0.95116773, 0.96598639, 0.95881007]),\n",
       "  'recall': array([0.2075067 , 0.22216441, 0.23628692, 0.22587487, 0.21971683]),\n",
       "  'roc_auc': array([0.59674401, 0.60439414, 0.61207165, 0.60899836, 0.60507881])},\n",
       " 'xgboost': {'accuracy': array([0.90055394, 0.89369559, 0.90474934, 0.89683377, 0.89683377]),\n",
       "  'precision': array([0.9025974 , 0.90723861, 0.90977042, 0.90558871, 0.90928726]),\n",
       "  'recall': array([0.89436997, 0.88033299, 0.89873418, 0.88494168, 0.8830624 ]),\n",
       "  'roc_auc': array([0.90045601, 0.89388506, 0.90475252, 0.89677756, 0.89692154])}}"
      ]
     },
     "execution_count": 39,
     "metadata": {},
     "output_type": "execute_result"
    }
   ],
   "source": [
    "results"
   ]
  },
  {
   "cell_type": "code",
   "execution_count": 40,
   "metadata": {},
   "outputs": [],
   "source": [
    "classifiers = [\n",
    "    ('random_forest', RandomForestClassifier(random_state=42)),\n",
    "    ('xgboost', xgb.XGBClassifier(random_state=42))\n",
    "]\n",
    "\n"
   ]
  },
  {
   "cell_type": "code",
   "execution_count": 41,
   "metadata": {},
   "outputs": [],
   "source": [
    "# Initialize KFold\n",
    "cv = KFold(n_splits=5, random_state=44, shuffle=True)\n",
    "\n",
    "# Define custom scoring\n",
    "scoring = {\n",
    "    'accuracy': make_scorer(accuracy_score),\n",
    "    'precision': make_scorer(precision_score),\n",
    "    'recall': make_scorer(recall_score),\n",
    "    'roc_auc': make_scorer(roc_auc_score)\n",
    "}\n",
    "\n",
    "# Dictionary to store results\n",
    "results = {name: {'accuracy': [], 'precision': [], 'recall': [], 'roc_auc': []} for name, _ in classifiers}\n",
    "\n",
    "# Iterate through each classifier\n",
    "for name, classifier in classifiers:\n",
    "    # Create a pipeline with a scaler and the classifier\n",
    "    pipeline = Pipeline([\n",
    "        ('scaler', StandardScaler()),  # Standardize features by removing the mean and scaling to unit variance\n",
    "        (name, classifier)\n",
    "    ])\n",
    "    \n",
    "    # Evaluate the pipeline using cross-validation\n",
    "    cv_results = cross_validate(pipeline, X_oversampled, y_oversampled, cv=cv, scoring=scoring)\n",
    "    \n",
    "    # Store the results\n",
    "    results[name]['accuracy'] = cv_results['test_accuracy']\n",
    "    results[name]['precision'] = cv_results['test_precision']\n",
    "    results[name]['recall'] = cv_results['test_recall']\n",
    "    results[name]['roc_auc'] = cv_results['test_roc_auc']\n"
   ]
  },
  {
   "cell_type": "code",
   "execution_count": 42,
   "metadata": {},
   "outputs": [
    {
     "data": {
      "image/png": "[encoded data removed]",
      "text/plain": [
       "<Figure size 1400x800 with 1 Axes>"
      ]
     },
     "metadata": {},
     "output_type": "display_data"
    }
   ],
   "source": [
    "# Convert results to a DataFrame for easier plotting\n",
    "data = []\n",
    "\n",
    "for name in results:\n",
    "    for metric in results[name]:\n",
    "        for score in results[name][metric]:\n",
    "            data.append({'Classifier': name, 'Metric': metric, 'Score': score})\n",
    "\n",
    "results_df = pd.DataFrame(data)\n",
    "\n",
    "# Plot the results\n",
    "plt.figure(figsize=(14, 8))\n",
    "sns.barplot(x='Metric', y='Score', hue='Classifier', data=results_df)\n",
    "plt.title('Classifier Performance Metrics')\n",
    "plt.ylabel('Score')\n",
    "plt.xlabel('Metric')\n",
    "plt.legend(loc='best')\n",
    "plt.show()\n"
   ]
  },
  {
   "cell_type": "code",
   "execution_count": 43,
   "metadata": {},
   "outputs": [
    {
     "data": {
      "text/plain": [
       "{'random_forest': {'accuracy': array([0.96714017, 0.96995673, 0.97040575, 0.97093522, 0.96730212]),\n",
       "  'precision': array([0.97492294, 0.97722976, 0.97669757, 0.97544293, 0.97185064]),\n",
       "  'recall': array([0.95870883, 0.96282498, 0.96326194, 0.96620684, 0.96276423]),\n",
       "  'roc_auc': array([0.96711068, 0.97001425, 0.97034274, 0.97093618, 0.96732128])},\n",
       " 'xgboost': {'accuracy': array([0.96113968, 0.9619969 , 0.96175198, 0.96468955, 0.96105646]),\n",
       "  'precision': array([0.97001336, 0.97025869, 0.968784  , 0.97236973, 0.96899802]),\n",
       "  'recall': array([0.95141734, 0.95383494, 0.95354201, 0.95657497, 0.95292683]),\n",
       "  'roc_auc': array([0.96110567, 0.96206273, 0.96167957, 0.96469121, 0.96109078])}}"
      ]
     },
     "execution_count": 43,
     "metadata": {},
     "output_type": "execute_result"
    }
   ],
   "source": [
    "results"
   ]
  },
  {
   "cell_type": "code",
   "execution_count": null,
   "metadata": {},
   "outputs": [],
   "source": []
  },
  {
   "cell_type": "code",
   "execution_count": null,
   "metadata": {},
   "outputs": [],
   "source": []
  },
  {
   "cell_type": "markdown",
   "metadata": {},
   "source": [
    "#### From all the metrics above, we can see that the Random Forest Classifier and XGBoost Classifier perform well on the dataset and performe better on the oversampling dataset. \n",
    "#### We can further tune the hyperparameters of these models on the oversampling data to improve their performance."
   ]
  },
  {
   "cell_type": "code",
   "execution_count": 44,
   "metadata": {},
   "outputs": [],
   "source": [
    "X_train, X_test, y_train, y_test = train_test_split(X_oversampled, y_oversampled, test_size=0.3, random_state=42)\n"
   ]
  },
  {
   "cell_type": "code",
   "execution_count": 47,
   "metadata": {},
   "outputs": [],
   "source": [
    "#  Implement hyperparameter tuning using random search\n",
    "# Define the hyperparameter grid for Random Forest Classifier\n",
    "\n",
    "param_grid_rf = {\n",
    "    'n_estimators': [100, 200],\n",
    "    'max_features': ['auto', 'sqrt', 'log2'],\n",
    "    'max_depth': [10, 30, None],\n",
    "    'min_samples_split': [2, 10],\n",
    "    'min_samples_leaf': [1, 2, 4],\n",
    "    'bootstrap': [True, False]\n",
    "    \n",
    "}\n"
   ]
  },
  {
   "cell_type": "code",
   "execution_count": 65,
   "metadata": {},
   "outputs": [
    {
     "name": "stdout",
     "output_type": "stream",
     "text": [
      "Fitting 5 folds for each of 12 candidates, totalling 60 fits\n",
      "Best parameters: {'min_samples_leaf': 1, 'min_samples_split': 2, 'n_estimators': 200}\n",
      "Best ROC AUC score: 0.9930372225835283\n"
     ]
    }
   ],
   "source": [
    "# Initialize the Random Forest model\n",
    "rf_model = RandomForestClassifier(random_state=42)\n",
    "\n",
    "# Initialize GridSearchCV\n",
    "grid_search_rf = GridSearchCV(estimator=rf_model, param_grid=param_grid_rf, cv=5, n_jobs=-1, verbose=2, scoring='roc_auc')\n",
    "\n",
    "# Fit the model\n",
    "grid_search_rf.fit(X_train, y_train)\n",
    "\n",
    "# Print the best parameters and best score\n",
    "print(f'Best parameters: {grid_search_rf.best_params_}')\n",
    "print(f'Best ROC AUC score: {grid_search_rf.best_score_}')\n"
   ]
  },
  {
   "cell_type": "code",
   "execution_count": 66,
   "metadata": {},
   "outputs": [],
   "source": [
    "best_parames = grid_search_rf.best_params_\n",
    "rfc = RandomForestClassifier(**best_parames)\n",
    "rfc.fit(X_train, y_train)\n",
    "y_pred = rfc.predict(X_test)"
   ]
  },
  {
   "cell_type": "code",
   "execution_count": 67,
   "metadata": {},
   "outputs": [
    {
     "name": "stdout",
     "output_type": "stream",
     "text": [
      "Accuracy: 0.9682967317059896\n",
      "ROC AUC: 0.9682635635032193\n",
      "Recall: 0.9634460459253575\n",
      "Precision: 0.9724527049452373\n"
     ]
    }
   ],
   "source": [
    "# Evaluate the model: Precision, Recall, F1-score, and ROC AUC\n",
    "print(\"Accuracy:\", accuracy_score(y_test, y_pred))\n",
    "print(\"ROC AUC:\", roc_auc_score(y_test, y_pred))\n",
    "# Evaluate the model: Recall\n",
    "print(\"Recall:\", recall_score(y_test, y_pred))\n",
    "print(\"Precision:\", precision_score(y_test, y_pred))\n",
    "\n"
   ]
  },
  {
   "cell_type": "code",
   "execution_count": null,
   "metadata": {},
   "outputs": [],
   "source": [
    "# from scipy.stats import uniform, randint\n"
   ]
  },
  {
   "cell_type": "code",
   "execution_count": 58,
   "metadata": {},
   "outputs": [],
   "source": [
    "param_grid_xgb = {\n",
    "    'n_estimators': [100,  300],\n",
    "    'learning_rate': [0.01, 0.05,],\n",
    "    'subsample': [0.4, 0.8 ],\n",
    "    'max_depth': [3, 6, 9],\n",
    "    'colsample_bytree': [0.6, 0.8, 1.0],\n",
    "    'min_child_weight': [1, 3, 5],\n",
    "}"
   ]
  },
  {
   "cell_type": "code",
   "execution_count": 59,
   "metadata": {},
   "outputs": [],
   "source": [
    "from xgboost import XGBClassifier\n"
   ]
  },
  {
   "cell_type": "code",
   "execution_count": 60,
   "metadata": {},
   "outputs": [
    {
     "name": "stdout",
     "output_type": "stream",
     "text": [
      "Fitting 5 folds for each of 216 candidates, totalling 1080 fits\n"
     ]
    },
    {
     "name": "stderr",
     "output_type": "stream",
     "text": [
      "c:\\Users\\ilook\\anaconda3\\Lib\\site-packages\\xgboost\\core.py:158: UserWarning: [08:07:48] WARNING: C:\\buildkite-agent\\builds\\buildkite-windows-cpu-autoscaling-group-i-06abd128ca6c1688d-1\\xgboost\\xgboost-ci-windows\\src\\learner.cc:740: \n",
      "Parameters: { \"use_label_encoder\" } are not used.\n",
      "\n",
      "  warnings.warn(smsg, UserWarning)\n"
     ]
    },
    {
     "name": "stdout",
     "output_type": "stream",
     "text": [
      "Best parameters: {'colsample_bytree': 0.8, 'learning_rate': 0.05, 'max_depth': 9, 'min_child_weight': 1, 'n_estimators': 300, 'subsample': 0.8}\n",
      "Best ROC AUC score: 0.992843024543739\n"
     ]
    }
   ],
   "source": [
    "# Initialize the XGBoost model\n",
    "xgb_model = XGBClassifier(random_state=42, use_label_encoder=False, eval_metric='logloss')\n",
    "\n",
    "# Initialize GridSearchCV\n",
    "grid_search = GridSearchCV(estimator=xgb_model, param_grid=param_grid_xgb, cv=5, n_jobs=-1, verbose=2, scoring='roc_auc')\n",
    "\n",
    "# Fit the model\n",
    "grid_search.fit(X_train, y_train)\n",
    "\n",
    "# Print the best parameters and best score\n",
    "print(f'Best parameters: {grid_search.best_params_}')\n",
    "print(f'Best ROC AUC score: {grid_search.best_score_}')\n"
   ]
  },
  {
   "cell_type": "code",
   "execution_count": 71,
   "metadata": {},
   "outputs": [],
   "source": [
    "best_parames = grid_search.best_params_\n",
    "xgbc = XGBClassifier(**best_parames)\n",
    "xgbc.fit(X_train, y_train)\n",
    "y_pred = xgbc.predict(X_test)"
   ]
  },
  {
   "cell_type": "code",
   "execution_count": 72,
   "metadata": {},
   "outputs": [
    {
     "name": "stdout",
     "output_type": "stream",
     "text": [
      "Accuracy: 0.9633711595504395\n",
      "ROC AUC: 0.9633225809796205\n",
      "Recall: 0.9562667835808626\n",
      "Precision: 0.9695504806356615\n"
     ]
    }
   ],
   "source": [
    "# Evaluate the model: Precision, Recall, F1-score, and ROC AUC\n",
    "print(\"Accuracy:\", accuracy_score(y_test, y_pred))\n",
    "print(\"ROC AUC:\", roc_auc_score(y_test, y_pred))\n",
    "# Evaluate the model: Recall\n",
    "print(\"Recall:\", recall_score(y_test, y_pred))\n",
    "print(\"Precision:\", precision_score(y_test, y_pred))\n"
   ]
  },
  {
   "cell_type": "code",
   "execution_count": 76,
   "metadata": {},
   "outputs": [],
   "source": [
    "\n",
    "# Predict probabilities for the test set\n",
    "rf_prob = rfc.predict_proba(X_test)[:, 1]\n",
    "xgb_prob = xgbc.predict_proba(X_test)[:, 1]\n",
    "\n",
    "# Compute FPR and TPR for both models\n",
    "rf_fpr, rf_tpr, _ = roc_curve(y_test, rf_prob)\n",
    "xgb_fpr, xgb_tpr, _ = roc_curve(y_test, xgb_prob)\n",
    "\n",
    "# Calculate the AUC for both models\n",
    "rf_auc = roc_auc_score(y_test, rf_prob)\n",
    "xgb_auc = roc_auc_score(y_test, xgb_prob)"
   ]
  },
  {
   "cell_type": "code",
   "execution_count": 77,
   "metadata": {},
   "outputs": [
    {
     "data": {
      "image/png": "[encoded data removed]",
      "text/plain": [
       "<Figure size 1000x600 with 1 Axes>"
      ]
     },
     "metadata": {},
     "output_type": "display_data"
    }
   ],
   "source": [
    "# Plot the ROC curves\n",
    "plt.figure(figsize=(10, 6))\n",
    "plt.plot(rf_fpr, rf_tpr, color='blue', lw=2, label='Random Forest (area = %0.2f)' % rf_auc)\n",
    "plt.plot(xgb_fpr, xgb_tpr, color='red', lw=2, label='XGBoost (area = %0.2f)' % xgb_auc)\n",
    "plt.plot([0, 1], [0, 1], color='grey', lw=2, linestyle='--')\n",
    "plt.xlim([0.0, 1.0])\n",
    "plt.ylim([0.0, 1.05])\n",
    "plt.xlabel('False Positive Rate')\n",
    "plt.ylabel('True Positive Rate')\n",
    "plt.title('Receiver Operating Characteristic (ROC) Curve')\n",
    "plt.legend(loc=\"lower right\")\n",
    "plt.show()\n",
    "\n"
   ]
  },
  {
   "cell_type": "code",
   "execution_count": 78,
   "metadata": {},
   "outputs": [],
   "source": [
    "import pickle"
   ]
  },
  {
   "cell_type": "code",
   "execution_count": 79,
   "metadata": {},
   "outputs": [],
   "source": [
    "# Save the Random Forest model\n",
    "with open('rfc_model.pkl', 'wb') as file:\n",
    "    pickle.dump(rfc, file)\n",
    "\n",
    "# Save the XGBoost model\n",
    "with open('xgbc_model.pkl', 'wb') as file:\n",
    "    pickle.dump(xgbc, file)"
   ]
  },
  {
   "cell_type": "code",
   "execution_count": 5,
   "metadata": {},
   "outputs": [],
   "source": [
    "data3 = pd.read_csv('data2.csv')"
   ]
  },
  {
   "cell_type": "code",
   "execution_count": 10,
   "metadata": {},
   "outputs": [
    {
     "data": {
      "text/html": [
       "<div>\n",
       "<style scoped>\n",
       "    .dataframe tbody tr th:only-of-type {\n",
       "        vertical-align: middle;\n",
       "    }\n",
       "\n",
       "    .dataframe tbody tr th {\n",
       "        vertical-align: top;\n",
       "    }\n",
       "\n",
       "    .dataframe thead th {\n",
       "        text-align: right;\n",
       "    }\n",
       "</style>\n",
       "<table border=\"1\" class=\"dataframe\">\n",
       "  <thead>\n",
       "    <tr style=\"text-align: right;\">\n",
       "      <th></th>\n",
       "      <th>_id</th>\n",
       "      <th>label</th>\n",
       "      <th>f0</th>\n",
       "      <th>f1</th>\n",
       "      <th>f2</th>\n",
       "      <th>f3</th>\n",
       "      <th>f4</th>\n",
       "      <th>f5</th>\n",
       "      <th>f6</th>\n",
       "      <th>f7</th>\n",
       "      <th>...</th>\n",
       "      <th>f73</th>\n",
       "      <th>f74</th>\n",
       "      <th>f75</th>\n",
       "      <th>f76</th>\n",
       "      <th>f77</th>\n",
       "      <th>f78</th>\n",
       "      <th>f79</th>\n",
       "      <th>f80</th>\n",
       "      <th>f81</th>\n",
       "      <th>Unnamed: 84</th>\n",
       "    </tr>\n",
       "  </thead>\n",
       "  <tbody>\n",
       "    <tr>\n",
       "      <th>0</th>\n",
       "      <td>667b34831b443137f25380e8</td>\n",
       "      <td>1</td>\n",
       "      <td>VIP0</td>\n",
       "      <td>0.00</td>\n",
       "      <td>-43.0</td>\n",
       "      <td>0.0000</td>\n",
       "      <td>0.0</td>\n",
       "      <td>-43.0</td>\n",
       "      <td>-43.0</td>\n",
       "      <td>-43.0</td>\n",
       "      <td>...</td>\n",
       "      <td>0.0</td>\n",
       "      <td>238.0</td>\n",
       "      <td>238.0</td>\n",
       "      <td>238.0</td>\n",
       "      <td>238.0</td>\n",
       "      <td>238.0</td>\n",
       "      <td>238.0</td>\n",
       "      <td>238.0</td>\n",
       "      <td>243010</td>\n",
       "      <td>NaN</td>\n",
       "    </tr>\n",
       "    <tr>\n",
       "      <th>1</th>\n",
       "      <td>667b34831b443137f25380ea</td>\n",
       "      <td>1</td>\n",
       "      <td>VIP0</td>\n",
       "      <td>0.00</td>\n",
       "      <td>0.0</td>\n",
       "      <td>0.0000</td>\n",
       "      <td>0.0</td>\n",
       "      <td>0.0</td>\n",
       "      <td>0.0</td>\n",
       "      <td>0.0</td>\n",
       "      <td>...</td>\n",
       "      <td>0.0</td>\n",
       "      <td>189.0</td>\n",
       "      <td>189.0</td>\n",
       "      <td>189.0</td>\n",
       "      <td>189.0</td>\n",
       "      <td>189.0</td>\n",
       "      <td>189.0</td>\n",
       "      <td>189.0</td>\n",
       "      <td>236020</td>\n",
       "      <td>NaN</td>\n",
       "    </tr>\n",
       "    <tr>\n",
       "      <th>2</th>\n",
       "      <td>667b34831b443137f25380ec</td>\n",
       "      <td>1</td>\n",
       "      <td>VIP0</td>\n",
       "      <td>0.00</td>\n",
       "      <td>0.0</td>\n",
       "      <td>0.0000</td>\n",
       "      <td>0.0</td>\n",
       "      <td>0.0</td>\n",
       "      <td>0.0</td>\n",
       "      <td>0.0</td>\n",
       "      <td>...</td>\n",
       "      <td>0.0</td>\n",
       "      <td>115.0</td>\n",
       "      <td>115.0</td>\n",
       "      <td>115.0</td>\n",
       "      <td>115.0</td>\n",
       "      <td>115.0</td>\n",
       "      <td>115.0</td>\n",
       "      <td>115.0</td>\n",
       "      <td>236040</td>\n",
       "      <td>NaN</td>\n",
       "    </tr>\n",
       "    <tr>\n",
       "      <th>3</th>\n",
       "      <td>667b34831b443137f25380ee</td>\n",
       "      <td>1</td>\n",
       "      <td>VIP0</td>\n",
       "      <td>0.00</td>\n",
       "      <td>-24.0</td>\n",
       "      <td>0.0000</td>\n",
       "      <td>0.0</td>\n",
       "      <td>-12.0</td>\n",
       "      <td>-12.0</td>\n",
       "      <td>-12.0</td>\n",
       "      <td>...</td>\n",
       "      <td>0.0</td>\n",
       "      <td>110.0</td>\n",
       "      <td>110.0</td>\n",
       "      <td>110.0</td>\n",
       "      <td>110.0</td>\n",
       "      <td>110.0</td>\n",
       "      <td>110.0</td>\n",
       "      <td>110.0</td>\n",
       "      <td>103010</td>\n",
       "      <td>NaN</td>\n",
       "    </tr>\n",
       "    <tr>\n",
       "      <th>4</th>\n",
       "      <td>667b34831b443137f2538292</td>\n",
       "      <td>1</td>\n",
       "      <td>VIP0</td>\n",
       "      <td>0.00</td>\n",
       "      <td>-38.0</td>\n",
       "      <td>0.0000</td>\n",
       "      <td>0.0</td>\n",
       "      <td>-38.0</td>\n",
       "      <td>-38.0</td>\n",
       "      <td>-38.0</td>\n",
       "      <td>...</td>\n",
       "      <td>0.0</td>\n",
       "      <td>141.0</td>\n",
       "      <td>141.0</td>\n",
       "      <td>141.0</td>\n",
       "      <td>141.0</td>\n",
       "      <td>141.0</td>\n",
       "      <td>141.0</td>\n",
       "      <td>141.0</td>\n",
       "      <td>243010</td>\n",
       "      <td>NaN</td>\n",
       "    </tr>\n",
       "    <tr>\n",
       "      <th>...</th>\n",
       "      <td>...</td>\n",
       "      <td>...</td>\n",
       "      <td>...</td>\n",
       "      <td>...</td>\n",
       "      <td>...</td>\n",
       "      <td>...</td>\n",
       "      <td>...</td>\n",
       "      <td>...</td>\n",
       "      <td>...</td>\n",
       "      <td>...</td>\n",
       "      <td>...</td>\n",
       "      <td>...</td>\n",
       "      <td>...</td>\n",
       "      <td>...</td>\n",
       "      <td>...</td>\n",
       "      <td>...</td>\n",
       "      <td>...</td>\n",
       "      <td>...</td>\n",
       "      <td>...</td>\n",
       "      <td>...</td>\n",
       "      <td>...</td>\n",
       "    </tr>\n",
       "    <tr>\n",
       "      <th>70715</th>\n",
       "      <td>667c1dce575fc03d58909e30</td>\n",
       "      <td>0</td>\n",
       "      <td>VIP0</td>\n",
       "      <td>0.00</td>\n",
       "      <td>0.0</td>\n",
       "      <td>0.0000</td>\n",
       "      <td>0.0</td>\n",
       "      <td>0.0</td>\n",
       "      <td>0.0</td>\n",
       "      <td>0.0</td>\n",
       "      <td>...</td>\n",
       "      <td>0.0</td>\n",
       "      <td>0.0</td>\n",
       "      <td>0.0</td>\n",
       "      <td>0.0</td>\n",
       "      <td>0.0</td>\n",
       "      <td>0.0</td>\n",
       "      <td>0.0</td>\n",
       "      <td>0.0</td>\n",
       "      <td>NaN</td>\n",
       "      <td>NaN</td>\n",
       "    </tr>\n",
       "    <tr>\n",
       "      <th>70716</th>\n",
       "      <td>667c1dce575fc03d58909eff</td>\n",
       "      <td>0</td>\n",
       "      <td>VIP0</td>\n",
       "      <td>0.00</td>\n",
       "      <td>0.0</td>\n",
       "      <td>0.0000</td>\n",
       "      <td>0.0</td>\n",
       "      <td>0.0</td>\n",
       "      <td>0.0</td>\n",
       "      <td>0.0</td>\n",
       "      <td>...</td>\n",
       "      <td>0.0</td>\n",
       "      <td>31.0</td>\n",
       "      <td>31.0</td>\n",
       "      <td>31.0</td>\n",
       "      <td>31.0</td>\n",
       "      <td>31.0</td>\n",
       "      <td>31.0</td>\n",
       "      <td>31.0</td>\n",
       "      <td>236050</td>\n",
       "      <td>NaN</td>\n",
       "    </tr>\n",
       "    <tr>\n",
       "      <th>70717</th>\n",
       "      <td>667c1dd2575fc03d5890bbfb</td>\n",
       "      <td>0</td>\n",
       "      <td>VIP0</td>\n",
       "      <td>420.25</td>\n",
       "      <td>-41.0</td>\n",
       "      <td>4.5277</td>\n",
       "      <td>20.5</td>\n",
       "      <td>0.0</td>\n",
       "      <td>-41.0</td>\n",
       "      <td>-20.5</td>\n",
       "      <td>...</td>\n",
       "      <td>2.0</td>\n",
       "      <td>168.0</td>\n",
       "      <td>164.0</td>\n",
       "      <td>166.0</td>\n",
       "      <td>164.0</td>\n",
       "      <td>166.0</td>\n",
       "      <td>164.0</td>\n",
       "      <td>168.0</td>\n",
       "      <td>243040</td>\n",
       "      <td>NaN</td>\n",
       "    </tr>\n",
       "    <tr>\n",
       "      <th>70718</th>\n",
       "      <td>667c1dd3575fc03d5890c07b</td>\n",
       "      <td>0</td>\n",
       "      <td>VIP0</td>\n",
       "      <td>0.00</td>\n",
       "      <td>-57.0</td>\n",
       "      <td>0.0000</td>\n",
       "      <td>0.0</td>\n",
       "      <td>-57.0</td>\n",
       "      <td>-57.0</td>\n",
       "      <td>-57.0</td>\n",
       "      <td>...</td>\n",
       "      <td>0.0</td>\n",
       "      <td>547.0</td>\n",
       "      <td>547.0</td>\n",
       "      <td>547.0</td>\n",
       "      <td>547.0</td>\n",
       "      <td>547.0</td>\n",
       "      <td>547.0</td>\n",
       "      <td>547.0</td>\n",
       "      <td>243010</td>\n",
       "      <td>NaN</td>\n",
       "    </tr>\n",
       "    <tr>\n",
       "      <th>70719</th>\n",
       "      <td>667c1dd5575fc03d5890caf9</td>\n",
       "      <td>0</td>\n",
       "      <td>VIP2</td>\n",
       "      <td>0.00</td>\n",
       "      <td>0.0</td>\n",
       "      <td>0.0000</td>\n",
       "      <td>0.0</td>\n",
       "      <td>0.0</td>\n",
       "      <td>0.0</td>\n",
       "      <td>0.0</td>\n",
       "      <td>...</td>\n",
       "      <td>17.5</td>\n",
       "      <td>140.0</td>\n",
       "      <td>105.0</td>\n",
       "      <td>122.5</td>\n",
       "      <td>105.0</td>\n",
       "      <td>122.5</td>\n",
       "      <td>105.0</td>\n",
       "      <td>140.0</td>\n",
       "      <td>243060</td>\n",
       "      <td>NaN</td>\n",
       "    </tr>\n",
       "  </tbody>\n",
       "</table>\n",
       "<p>70720 rows × 85 columns</p>\n",
       "</div>"
      ],
      "text/plain": [
       "                            _id  label    f0      f1    f2      f3    f4  \\\n",
       "0      667b34831b443137f25380e8      1  VIP0    0.00 -43.0  0.0000   0.0   \n",
       "1      667b34831b443137f25380ea      1  VIP0    0.00   0.0  0.0000   0.0   \n",
       "2      667b34831b443137f25380ec      1  VIP0    0.00   0.0  0.0000   0.0   \n",
       "3      667b34831b443137f25380ee      1  VIP0    0.00 -24.0  0.0000   0.0   \n",
       "4      667b34831b443137f2538292      1  VIP0    0.00 -38.0  0.0000   0.0   \n",
       "...                         ...    ...   ...     ...   ...     ...   ...   \n",
       "70715  667c1dce575fc03d58909e30      0  VIP0    0.00   0.0  0.0000   0.0   \n",
       "70716  667c1dce575fc03d58909eff      0  VIP0    0.00   0.0  0.0000   0.0   \n",
       "70717  667c1dd2575fc03d5890bbfb      0  VIP0  420.25 -41.0  4.5277  20.5   \n",
       "70718  667c1dd3575fc03d5890c07b      0  VIP0    0.00 -57.0  0.0000   0.0   \n",
       "70719  667c1dd5575fc03d5890caf9      0  VIP2    0.00   0.0  0.0000   0.0   \n",
       "\n",
       "         f5    f6    f7  ...   f73    f74    f75    f76    f77    f78    f79  \\\n",
       "0     -43.0 -43.0 -43.0  ...   0.0  238.0  238.0  238.0  238.0  238.0  238.0   \n",
       "1       0.0   0.0   0.0  ...   0.0  189.0  189.0  189.0  189.0  189.0  189.0   \n",
       "2       0.0   0.0   0.0  ...   0.0  115.0  115.0  115.0  115.0  115.0  115.0   \n",
       "3     -12.0 -12.0 -12.0  ...   0.0  110.0  110.0  110.0  110.0  110.0  110.0   \n",
       "4     -38.0 -38.0 -38.0  ...   0.0  141.0  141.0  141.0  141.0  141.0  141.0   \n",
       "...     ...   ...   ...  ...   ...    ...    ...    ...    ...    ...    ...   \n",
       "70715   0.0   0.0   0.0  ...   0.0    0.0    0.0    0.0    0.0    0.0    0.0   \n",
       "70716   0.0   0.0   0.0  ...   0.0   31.0   31.0   31.0   31.0   31.0   31.0   \n",
       "70717   0.0 -41.0 -20.5  ...   2.0  168.0  164.0  166.0  164.0  166.0  164.0   \n",
       "70718 -57.0 -57.0 -57.0  ...   0.0  547.0  547.0  547.0  547.0  547.0  547.0   \n",
       "70719   0.0   0.0   0.0  ...  17.5  140.0  105.0  122.5  105.0  122.5  105.0   \n",
       "\n",
       "         f80     f81  Unnamed: 84  \n",
       "0      238.0  243010          NaN  \n",
       "1      189.0  236020          NaN  \n",
       "2      115.0  236040          NaN  \n",
       "3      110.0  103010          NaN  \n",
       "4      141.0  243010          NaN  \n",
       "...      ...     ...          ...  \n",
       "70715    0.0     NaN          NaN  \n",
       "70716   31.0  236050          NaN  \n",
       "70717  168.0  243040          NaN  \n",
       "70718  547.0  243010          NaN  \n",
       "70719  140.0  243060          NaN  \n",
       "\n",
       "[70720 rows x 85 columns]"
      ]
     },
     "execution_count": 10,
     "metadata": {},
     "output_type": "execute_result"
    }
   ],
   "source": [
    "data3"
   ]
  },
  {
   "cell_type": "code",
   "execution_count": 34,
   "metadata": {},
   "outputs": [],
   "source": [
    "new_data = data3.sample().to_json(orient='records')"
   ]
  },
  {
   "cell_type": "code",
   "execution_count": 35,
   "metadata": {},
   "outputs": [
    {
     "data": {
      "text/plain": [
       "'[{\"label\":0.0,\"f0\":3,\"f1\":0.0,\"f2\":-15.0,\"f3\":0.0,\"f4\":0.0,\"f12\":0.0,\"f13\":0.0,\"f14\":0.0,\"f15\":0.0,\"f16\":0.0,\"f21\":85.0,\"f23\":0.0,\"f24\":29.0,\"f25\":0.0,\"f26\":0.0,\"f34\":0.0,\"f35\":48.0,\"f36\":0.0,\"f37\":0.0,\"f45\":0.0,\"f46\":0.0,\"f47\":0.0,\"f48\":0.0,\"f56\":500.0,\"f57\":0.0,\"f58\":86.0,\"f59\":0.0,\"f60\":0.0,\"f68\":2,\"f69\":10,\"f70\":0.0,\"f71\":61.0,\"f72\":0.0,\"f73\":0.0,\"f81\":245,\"PCA_f5\":-1284370.1356532155,\"PCA_f17\":-0.0071385538,\"PCA_f27\":-34.5720788949,\"PCA_f38\":-28.1619356953,\"PCA_f49\":-18.3254612004,\"PCA_f61\":-349.9820946494,\"PCA_f74\":-1276390.4333535051}]'"
      ]
     },
     "execution_count": 35,
     "metadata": {},
     "output_type": "execute_result"
    }
   ],
   "source": [
    "new_data"
   ]
  },
  {
   "cell_type": "code",
   "execution_count": 12,
   "metadata": {},
   "outputs": [],
   "source": [
    "#  add new_data as last row of data3 without using append\n",
    "data3 = pd.concat([data3, new_data], ignore_index=True)"
   ]
  },
  {
   "cell_type": "markdown",
   "metadata": {},
   "source": [
    "####Code prepare for Flask API:"
   ]
  },
  {
   "cell_type": "code",
   "execution_count": 20,
   "metadata": {},
   "outputs": [
    {
     "name": "stderr",
     "output_type": "stream",
     "text": [
      "C:\\Users\\ECDD0079\\AppData\\Local\\Temp\\ipykernel_21124\\771972250.py:8: FutureWarning: Passing literal json to 'read_json' is deprecated and will be removed in a future version. To read from a literal string, wrap it in a 'StringIO' object.\n",
      "  new_data = pd.read_json(new_data, typ='series')\n"
     ]
    }
   ],
   "source": [
    "# create a json object that contains value for 1 row of data2\n",
    "from sklearn.preprocessing import LabelEncoder\n",
    "import pandas as pd\n",
    "from sklearn.decomposition import PCA\n",
    "\n",
    "data3 = pd.read_csv('data2.csv')\n",
    "new_data = data3.sample().to_json(orient='records')\n",
    "new_data = pd.read_json(new_data, typ='series')\n",
    "data3.loc[len(data3)] = new_data\n",
    "data3.drop(columns=['_id','Unnamed: 84','f22'], inplace=True)\n",
    "for col in data3.columns:\n",
    "    data3.fillna({col:data3[col].mode()[0]}, inplace=True)\n",
    "le = LabelEncoder()\n",
    "for i in data3.columns:\n",
    "    if data3[i].dtype == 'object':\n",
    "        data3[i] = le.fit_transform(data3[i])\n",
    "group1 = ['f5', 'f6', 'f7', 'f8', 'f9','f10','f11']\n",
    "group2 = ['f17', 'f18', 'f19', 'f20']\n",
    "group3 = ['f27', 'f28', 'f29', 'f30', 'f31','f32','f33']\n",
    "group4 = ['f38', 'f39', 'f40', 'f41', 'f42','f43','f44']\n",
    "group5 = ['f49', 'f50', 'f51', 'f52', 'f53','f54','f55']\n",
    "group6 = ['f61', 'f62', 'f63', 'f64', 'f65','f66','f67']\n",
    "group7 = ['f74', 'f75', 'f76', 'f77', 'f78','f79','f80']\n",
    "\n",
    "groups = [group1, group2, group3, group4, group5, group6, group7]\n",
    "# convert new_data from json to dictionary\n",
    "def apply_pca_to_group(data, group, n_components=1):\n",
    "    pca = PCA(n_components=n_components)\n",
    "    pca_components = pca.fit_transform(data[group])\n",
    "    pca_column = f'PCA_{group[0]}'\n",
    "    data[pca_column] = pca_components\n",
    "    data.drop(columns=group,inplace=True)\n",
    "    return data\n",
    "\n",
    "# Apply PCA to each group and update the dataframe\n",
    "for group in groups:\n",
    "    data3_pca = apply_pca_to_group(data3, group, n_components=1)\n",
    "data_test = data3_pca.iloc[-1].drop('label').values.reshape(1, -1)\n"
   ]
  },
  {
   "cell_type": "code",
   "execution_count": null,
   "metadata": {},
   "outputs": [],
   "source": [
    "rfc.predict(data_test).tolist()"
   ]
  },
  {
   "cell_type": "code",
   "execution_count": null,
   "metadata": {},
   "outputs": [],
   "source": [
    "# docker build -t prediction_model_api .\n"
   ]
  }
 ],
 "metadata": {
  "kernelspec": {
   "display_name": "base",
   "language": "python",
   "name": "python3"
  },
  "language_info": {
   "codemirror_mode": {
    "name": "ipython",
    "version": 3
   },
   "file_extension": ".py",
   "mimetype": "text/x-python",
   "name": "python",
   "nbconvert_exporter": "python",
   "pygments_lexer": "ipython3",
   "version": "3.12.2"
  }
 },
 "nbformat": 4,
 "nbformat_minor": 2
}
